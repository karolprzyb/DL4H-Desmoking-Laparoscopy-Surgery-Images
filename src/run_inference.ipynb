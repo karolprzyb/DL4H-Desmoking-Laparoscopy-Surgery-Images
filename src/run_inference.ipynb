{
 "cells": [
  {
   "attachments": {},
   "cell_type": "markdown",
   "metadata": {},
   "source": [
    "The purpose of this notebook is to run a given trained model on input images/video and visualize the desmoking. We will first desmoke some images and display them for qualitative analysis. Then we can experiment with generating side by side de-smoked videos. We will start by loading in our libraries and then loading the dataset. This time we will want to load in the real smoked images which we were able to identify in the synthetic_smoke_prep ipython notebook using the cholec "
   ]
  },
  {
   "cell_type": "code",
   "execution_count": null,
   "metadata": {},
   "outputs": [],
   "source": []
  }
 ],
 "metadata": {
  "language_info": {
   "name": "python"
  },
  "orig_nbformat": 4
 },
 "nbformat": 4,
 "nbformat_minor": 2
}
