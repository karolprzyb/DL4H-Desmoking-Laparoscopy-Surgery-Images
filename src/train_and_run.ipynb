{
 "cells": [
  {
   "cell_type": "code",
   "execution_count": 1,
   "metadata": {},
   "outputs": [],
   "source": [
    "import os\n",
    "import logging\n",
    "import argparse\n",
    "import json\n",
    "import datetime\n",
    "from typing import Union\n",
    "\n",
    "import torch\n",
    "from torch.utils.tensorboard import SummaryWriter\n",
    "from torch.optim import Adam\n",
    "from torch.optim import Optimizer\n",
    "                              \n",
    "\n",
    "from utils import *\n",
    "from losses import PSNR\n",
    "from SynthTrainer import SynthTrainer\n",
    "import gan\n",
    "\n",
    "from synth_data_source import loadData"
   ]
  },
  {
   "attachments": {},
   "cell_type": "markdown",
   "metadata": {},
   "source": [
    "We are going to start by preparing our various models. First we will start with the model described in our target paper \"Desmoking Laparoscopy Surgery Images Using an Image-to-Image Translation Guided by an Embedded Dark Channel\"\n",
    "We will have to define a discriminator and a generator. Note the tables here reflect processing a 512x512 image as opposed to 256x256 as the original paper used. Also note that upon inspecting the paper repository, the tables in the paper appear inaccurate. I recreated these nets to be true to their repository by looking at the logic that generates the nets used.\n",
    "\n",
    "Since the arguments used were not specified in the paper I made a best estimate related to optional arguments based on what I thought would make sense. I also made some modification on where I apply dropout based on some advice from Dr. Florian Richter. It appears dropout was applied on all the 'decoder' layers in the unet, but it equally well could have not been applied at all depending on arguments passed at runtime. My assumption is dropout will be helpful and should be applied at the innermost layers of the decoder.\n",
    "\n",
    "ADD TABLES HERE AS IMAGES. KATEX DOES NOT IMPLEMENT TABULAR..."
   ]
  },
  {
   "attachments": {},
   "cell_type": "markdown",
   "metadata": {},
   "source": [
    "I am only showing this discriminator here. Please see models.py for all the models we will be using. They take up a lot of screen space since I wrote them out explicitly."
   ]
  },
  {
   "cell_type": "code",
   "execution_count": 2,
   "metadata": {},
   "outputs": [],
   "source": [
    "# DEFINE THE PAPER DISCRIMINATOR\n",
    "class Discriminator_demo(torch.nn.Module):\n",
    "    def __init__(self, input_channels:int = 3):\n",
    "        super().__init__()\n",
    "\n",
    "        self.sequence = [torch.nn.Conv2d(input_channels, 64, kernel_size=4, stride=2, padding=1), \n",
    "                    torch.nn.LeakyReLU(0.2, True)]\n",
    "        \n",
    "        sequence += [torch.nn.Conv2d(64, 128, kernel_size=4, stride=2, padding=1), \n",
    "                     torch.nn.BatchNorm2d(128),\n",
    "                     torch.nn.LeakyReLU(0.2, True)]\n",
    "        \n",
    "        sequence += [torch.nn.Conv2d(128, 256, kernel_size=4, stride=2, padding=1), \n",
    "                     torch.nn.BatchNorm2d(256),\n",
    "                     torch.nn.LeakyReLU(0.2, True)]\n",
    "        \n",
    "        sequence += [torch.nn.ZeroPad2d(2)]\n",
    "        \n",
    "        sequence += [torch.nn.Conv2d(256, 512, kernel_size=4, stride=1), \n",
    "                     torch.nn.BatchNorm2d(512),\n",
    "                     torch.nn.LeakyReLU(0.2, True)]\n",
    "        \n",
    "        sequence += [torch.nn.ZeroPad2d(2)]\n",
    "        \n",
    "        sequence += [torch.nn.Conv2d(512, 1, kernel_size=4, stride=1)]\n",
    "        \n",
    "        self.model = torch.nn.Sequential(*sequence)\n",
    "\n",
    "    def forward(self, x:torch.Tensor) -> torch.Tensor:\n",
    "        return self.model(x)\n",
    "\n"
   ]
  },
  {
   "attachments": {},
   "cell_type": "markdown",
   "metadata": {},
   "source": [
    "Now we import models. Note that UNET is the paper implementation and UNETsmolr is the ablated version with layers x-y taken out. Please reference the code and the numbers to the right of the layers. These layers have different assigned numbers than how it is organized in the report. In the code every individual nn.module has its own layer number instead of being grouped together."
   ]
  },
  {
   "cell_type": "code",
   "execution_count": 3,
   "metadata": {},
   "outputs": [],
   "source": [
    "import models"
   ]
  },
  {
   "attachments": {},
   "cell_type": "markdown",
   "metadata": {},
   "source": [
    "Note our trainer is located in gan.py. You will want to reference that file along with the inherited class from data_augmentation in order to understand the training, validation and testing. I have included it instead of implementing it here to reduce the length of this notebook.\n",
    "\n",
    "You will also want to reference losses.py for PSNR and other metrics being taken for image quality."
   ]
  },
  {
   "cell_type": "code",
   "execution_count": 4,
   "metadata": {},
   "outputs": [],
   "source": [
    "#from gan import GANTrainer\n",
    "from losses import PSNR\n",
    "from losses import SSIMLoss\n",
    "from torchmetrics import UniversalImageQualityIndex\n",
    "from libs.pytorch_fsim import fsim\n"
   ]
  },
  {
   "attachments": {},
   "cell_type": "markdown",
   "metadata": {},
   "source": [
    "Now we will setup some arguments which we will use to run our trainer."
   ]
  },
  {
   "cell_type": "code",
   "execution_count": 5,
   "metadata": {},
   "outputs": [],
   "source": [
    "args = {      \n",
    "        'save' : 'C:/Users/Karol/Documents/DL4H/runs/{}'.format(datetime.datetime.now().strftime('%Y-%m-%d_%H-%M-%S')),\n",
    "        'batch' : 8,\n",
    "        'lr' : 0.0002,\n",
    "        'epochs' : 60,\n",
    "        'gpu' : 0,\n",
    "        'use_dark_channel' : False,\n",
    "        'load_net' : None,\n",
    "        'run_val_and_test_every_steps' : 1718\n",
    "}\n",
    "\n",
    "args_data = {\n",
    "        'pre_path' : 'C:/Users/Karol/Documents/DL4H',\n",
    "        'cache_subfolder' : '/datasets/cholec80/cache',\n",
    "        'cache_subfolder_test' : '/datasets/cholec80/cache_testset',\n",
    "        'syn_smoke_subfolder' : '/datasets/cholec80/synthetic_smoke/',\n",
    "        'dataset_subfolder' : '/datasets/cholec80/input_formatted',\n",
    "        'dataset_subfolder_test' : '/datasets/cholec80/input_formatted_test'\n",
    "}"
   ]
  },
  {
   "attachments": {},
   "cell_type": "markdown",
   "metadata": {},
   "source": [
    "Now let us load all our data in."
   ]
  },
  {
   "cell_type": "code",
   "execution_count": 6,
   "metadata": {},
   "outputs": [
    {
     "ename": "KeyboardInterrupt",
     "evalue": "",
     "output_type": "error",
     "traceback": [
      "\u001b[1;31m---------------------------------------------------------------------------\u001b[0m",
      "\u001b[1;31mKeyboardInterrupt\u001b[0m                         Traceback (most recent call last)",
      "Cell \u001b[1;32mIn[6], line 1\u001b[0m\n\u001b[1;32m----> 1\u001b[0m train_data, val_data, test_data \u001b[39m=\u001b[39m loadData(args_data)\n",
      "File \u001b[1;32mc:\\Users\\Karol\\Documents\\DL4H\\DL4H-Desmoking-Laparoscopy-Surgery-Images\\src\\synth_data_source.py:118\u001b[0m, in \u001b[0;36mloadData\u001b[1;34m(args)\u001b[0m\n\u001b[0;32m    112\u001b[0m target_frame_transform \u001b[39m=\u001b[39m transforms\u001b[39m.\u001b[39mCompose([\n\u001b[0;32m    113\u001b[0m                                           kornia\u001b[39m.\u001b[39maugmentation\u001b[39m.\u001b[39mRandomSaturation(saturation\u001b[39m=\u001b[39m(\u001b[39m1.2\u001b[39m, \u001b[39m1.2\u001b[39m), \n\u001b[0;32m    114\u001b[0m                                                                              p\u001b[39m=\u001b[39m\u001b[39m1.0\u001b[39m, keepdim\u001b[39m=\u001b[39m\u001b[39mTrue\u001b[39;00m),\n\u001b[0;32m    115\u001b[0m                                           ])\n\u001b[0;32m    117\u001b[0m \u001b[39m# Get the datasets\u001b[39;00m\n\u001b[1;32m--> 118\u001b[0m dataset_list, _ \u001b[39m=\u001b[39m getDatasets(vid_dataset_path \u001b[39m=\u001b[39;49m dataset_path,\n\u001b[0;32m    119\u001b[0m                                                  loader_type \u001b[39m=\u001b[39;49m loader_type,\n\u001b[0;32m    120\u001b[0m                                                  vid_dataset_cache_path \u001b[39m=\u001b[39;49m cache,\n\u001b[0;32m    121\u001b[0m                                                  cache_path_synth_smoke \u001b[39m=\u001b[39;49m cache_path_synth_smoke,\n\u001b[0;32m    122\u001b[0m                                                  cache_path_real_smoke  \u001b[39m=\u001b[39;49m cache_path_real_smoke,\n\u001b[0;32m    123\u001b[0m                                                  vid_transform \u001b[39m=\u001b[39;49m vid_transform,\n\u001b[0;32m    124\u001b[0m                                                  vid_dataset_apply_scope_cropping \u001b[39m=\u001b[39;49m \u001b[39mTrue\u001b[39;49;00m,\n\u001b[0;32m    125\u001b[0m                                                  smoke_dataset_path \u001b[39m=\u001b[39;49m smoke,\n\u001b[0;32m    126\u001b[0m                                                  synth_smoke_transforms \u001b[39m=\u001b[39;49m synth_smoke_transforms,\n\u001b[0;32m    127\u001b[0m                                                  multi_frame \u001b[39m=\u001b[39;49m multi_frame,\n\u001b[0;32m    128\u001b[0m                                                  bg_img_transform \u001b[39m=\u001b[39;49m bg_img_transform,\n\u001b[0;32m    129\u001b[0m                                                  output_transform_synth \u001b[39m=\u001b[39;49m output_transform_synth,\n\u001b[0;32m    130\u001b[0m                                                  output_transform_real \u001b[39m=\u001b[39;49m output_transform_real,\n\u001b[0;32m    131\u001b[0m                                                  prev_frame_transform \u001b[39m=\u001b[39;49m prev_frame_transform,\n\u001b[0;32m    132\u001b[0m                                                  vid_dataset_labels \u001b[39m=\u001b[39;49m via_labels,\n\u001b[0;32m    133\u001b[0m                                                  target_transform \u001b[39m=\u001b[39;49m target_frame_transform,\n\u001b[0;32m    134\u001b[0m                                                  l_th \u001b[39m=\u001b[39;49m l_th, c_th \u001b[39m=\u001b[39;49m c_th, b_th \u001b[39m=\u001b[39;49m b_th, b_th_th \u001b[39m=\u001b[39;49m b_th_th)\n\u001b[0;32m    136\u001b[0m dataset_list_test, _ \u001b[39m=\u001b[39m getDatasets(vid_dataset_path \u001b[39m=\u001b[39m dataset_path_test,\n\u001b[0;32m    137\u001b[0m                                                  loader_type \u001b[39m=\u001b[39m loader_type,\n\u001b[0;32m    138\u001b[0m                                                  vid_dataset_cache_path \u001b[39m=\u001b[39m cache_test,\n\u001b[1;32m   (...)\u001b[0m\n\u001b[0;32m    151\u001b[0m                                                  target_transform \u001b[39m=\u001b[39m target_frame_transform,\n\u001b[0;32m    152\u001b[0m                                                  l_th \u001b[39m=\u001b[39m l_th, c_th \u001b[39m=\u001b[39m c_th, b_th \u001b[39m=\u001b[39m b_th, b_th_th \u001b[39m=\u001b[39m b_th_th)\n\u001b[0;32m    154\u001b[0m dataset:SynthSmokeLoader \u001b[39m=\u001b[39m ConcatDataset(dataset_list)\n",
      "File \u001b[1;32mc:\\Users\\Karol\\Documents\\DL4H\\DL4H-Desmoking-Laparoscopy-Surgery-Images\\src\\utils.py:308\u001b[0m, in \u001b[0;36mgetDatasets\u001b[1;34m(vid_dataset_path, loader_type, smoke_dataset_path, vid_dataset_cache_path, cache_path_synth_smoke, cache_path_real_smoke, multi_frame, vid_dataset_labels, num_synth_smoke_per_bg_img, vid_dataset_apply_scope_cropping, vid_transform, clear_cache_directory, synth_smoke_transforms, bg_img_transform, output_transform_synth, output_transform_real, prev_frame_transform, target_transform, compose_function, l_th, c_th, b_th, b_th_th)\u001b[0m\n\u001b[0;32m    300\u001b[0m     vid_data_list \u001b[39m=\u001b[39m getVidData(vid_dataset_path \u001b[39m=\u001b[39m vid_dataset_path,\n\u001b[0;32m    301\u001b[0m                                vid_dataset_cache_path \u001b[39m=\u001b[39m vid_dataset_cache_path,\n\u001b[0;32m    302\u001b[0m                                temporal_labels \u001b[39m=\u001b[39m vid_dataset_labels,\n\u001b[1;32m   (...)\u001b[0m\n\u001b[0;32m    305\u001b[0m                                loader_type \u001b[39m=\u001b[39m \u001b[39m'\u001b[39m\u001b[39mvia\u001b[39m\u001b[39m'\u001b[39m,\n\u001b[0;32m    306\u001b[0m                                clear_cache_directory \u001b[39m=\u001b[39m clear_cache_directory)\n\u001b[0;32m    307\u001b[0m \u001b[39melif\u001b[39;00m loader_type \u001b[39m==\u001b[39m \u001b[39m'\u001b[39m\u001b[39mcholec_smoke\u001b[39m\u001b[39m'\u001b[39m:\n\u001b[1;32m--> 308\u001b[0m     vid_data_list \u001b[39m=\u001b[39m getVidData(vid_dataset_path \u001b[39m=\u001b[39;49m vid_dataset_path,\n\u001b[0;32m    309\u001b[0m                                vid_dataset_cache_path \u001b[39m=\u001b[39;49m vid_dataset_cache_path,\n\u001b[0;32m    310\u001b[0m                                transform \u001b[39m=\u001b[39;49m vid_transform,\n\u001b[0;32m    311\u001b[0m                                scope_cropping \u001b[39m=\u001b[39;49m vid_dataset_apply_scope_cropping,\n\u001b[0;32m    312\u001b[0m                                loader_type\u001b[39m=\u001b[39;49m\u001b[39m'\u001b[39;49m\u001b[39mcholec_smoke\u001b[39;49m\u001b[39m'\u001b[39;49m,\n\u001b[0;32m    313\u001b[0m                                clear_cache_directory \u001b[39m=\u001b[39;49m clear_cache_directory)\n\u001b[0;32m    314\u001b[0m \u001b[39melse\u001b[39;00m:\n\u001b[0;32m    315\u001b[0m     \u001b[39mraise\u001b[39;00m \u001b[39mValueError\u001b[39;00m(\u001b[39m\"\u001b[39m\u001b[39mloader_type must be \u001b[39m\u001b[39m'\u001b[39m\u001b[39mvia\u001b[39m\u001b[39m'\u001b[39m\u001b[39m or \u001b[39m\u001b[39m'\u001b[39m\u001b[39mcholec_smoke\u001b[39m\u001b[39m'\u001b[39m\u001b[39m\"\u001b[39m)\n",
      "File \u001b[1;32mc:\\Users\\Karol\\Documents\\DL4H\\DL4H-Desmoking-Laparoscopy-Surgery-Images\\src\\data_augmentation\\utils.py:105\u001b[0m, in \u001b[0;36mgetVidData\u001b[1;34m(vid_dataset_path, loader_type, vid_dataset_cache_path, **kwargs)\u001b[0m\n\u001b[0;32m    102\u001b[0m         \u001b[39mcontinue\u001b[39;00m\n\u001b[0;32m    104\u001b[0m     \u001b[39m# Load cholec 80 smoke video dataset\u001b[39;00m\n\u001b[1;32m--> 105\u001b[0m     t_vid_data \u001b[39m=\u001b[39m Cholec80SmokeLoader(smoke_csv_files[\u001b[39m0\u001b[39m], \n\u001b[0;32m    106\u001b[0m                                      video_file_path\u001b[39m=\u001b[39mos\u001b[39m.\u001b[39mpath\u001b[39m.\u001b[39mjoin(directory_path, mp4_files[\u001b[39m0\u001b[39m]), \n\u001b[0;32m    107\u001b[0m                                      cache_directory\u001b[39m=\u001b[39mcache_directory, \n\u001b[0;32m    108\u001b[0m                                      \u001b[39m*\u001b[39m\u001b[39m*\u001b[39mkwargs)\n\u001b[0;32m    110\u001b[0m \u001b[39m# video only loader case\u001b[39;00m\n\u001b[0;32m    111\u001b[0m \u001b[39melse\u001b[39;00m:\n\u001b[0;32m    112\u001b[0m     \u001b[39m# Load video dataset\u001b[39;00m\n\u001b[0;32m    113\u001b[0m     t_vid_data \u001b[39m=\u001b[39m VideoLoader(os\u001b[39m.\u001b[39mpath\u001b[39m.\u001b[39mjoin(directory_path, mp4_files[\u001b[39m0\u001b[39m]), \n\u001b[0;32m    114\u001b[0m                              cache_directory\u001b[39m=\u001b[39mcache_directory,\n\u001b[0;32m    115\u001b[0m                              \u001b[39m*\u001b[39m\u001b[39m*\u001b[39mkwargs)\n",
      "File \u001b[1;32mc:\\Users\\Karol\\Documents\\DL4H\\DL4H-Desmoking-Laparoscopy-Surgery-Images\\src\\data_augmentation\\Cholec80Loader.py:45\u001b[0m, in \u001b[0;36mCholec80SmokeLoader.__init__\u001b[1;34m(self, smoke_csv_file_path, video_file_path, transform, target_transform, scope_cropping, cache_directory, clear_cache_directory)\u001b[0m\n\u001b[0;32m     42\u001b[0m \u001b[39mself\u001b[39m\u001b[39m.\u001b[39mtarget_transform \u001b[39m=\u001b[39m target_transform\n\u001b[0;32m     44\u001b[0m \u001b[39m# Prepare video\u001b[39;00m\n\u001b[1;32m---> 45\u001b[0m \u001b[39msuper\u001b[39;49m()\u001b[39m.\u001b[39;49m\u001b[39m__init__\u001b[39;49m(video_file_path, transform, scope_cropping, cache_directory, clear_cache_directory)\n\u001b[0;32m     47\u001b[0m \u001b[39m# Prepare label data\u001b[39;00m\n\u001b[0;32m     48\u001b[0m \u001b[39mself\u001b[39m\u001b[39m.\u001b[39mlabel_data \u001b[39m=\u001b[39m np\u001b[39m.\u001b[39mstack([np\u001b[39m.\u001b[39marange(\u001b[39msuper\u001b[39m()\u001b[39m.\u001b[39m\u001b[39m__len__\u001b[39m()), \u001b[39m-\u001b[39m\u001b[39m1\u001b[39m\u001b[39m*\u001b[39mnp\u001b[39m.\u001b[39mones((\u001b[39msuper\u001b[39m()\u001b[39m.\u001b[39m\u001b[39m__len__\u001b[39m()))], axis\u001b[39m=\u001b[39m\u001b[39m1\u001b[39m)\n",
      "File \u001b[1;32mc:\\Users\\Karol\\Documents\\DL4H\\DL4H-Desmoking-Laparoscopy-Surgery-Images\\src\\data_augmentation\\VideoLoader.py:166\u001b[0m, in \u001b[0;36mVideoLoader.__init__\u001b[1;34m(self, video_file_path, transform, scope_cropping, cache_directory, clear_cache_directory, subsample)\u001b[0m\n\u001b[0;32m    164\u001b[0m     \u001b[39mcontinue\u001b[39;00m\n\u001b[0;32m    165\u001b[0m \u001b[39m#  -- Compute Scope Parameters and if confidence is greater than 25% keep these parameters\u001b[39;00m\n\u001b[1;32m--> 166\u001b[0m c, r, conf \u001b[39m=\u001b[39m getScopeImgCircleParameters(img, threshold \u001b[39m=\u001b[39;49m thres)\n\u001b[0;32m    167\u001b[0m \u001b[39mif\u001b[39;00m conf \u001b[39m>\u001b[39m \u001b[39m0.25\u001b[39m:\n\u001b[0;32m    168\u001b[0m     \u001b[39mbreak\u001b[39;00m\n",
      "File \u001b[1;32mc:\\Users\\Karol\\Documents\\DL4H\\DL4H-Desmoking-Laparoscopy-Surgery-Images\\src\\data_augmentation\\VideoLoader.py:67\u001b[0m, in \u001b[0;36mgetScopeImgCircleParameters\u001b[1;34m(img, threshold)\u001b[0m\n\u001b[0;32m     64\u001b[0m (x,y),r \u001b[39m=\u001b[39m cv2\u001b[39m.\u001b[39mminEnclosingCircle(contours)\n\u001b[0;32m     66\u001b[0m \u001b[39m# Draw circle and get its overlap with the thresholded image\u001b[39;00m\n\u001b[1;32m---> 67\u001b[0m circle_img \u001b[39m=\u001b[39m cv2\u001b[39m.\u001b[39;49mcircle(np\u001b[39m.\u001b[39;49mzeros((img\u001b[39m.\u001b[39;49mshape[\u001b[39m-\u001b[39;49m\u001b[39m2\u001b[39;49m], img\u001b[39m.\u001b[39;49mshape[\u001b[39m-\u001b[39;49m\u001b[39m1\u001b[39;49m])), (\u001b[39mint\u001b[39;49m(x), \u001b[39mint\u001b[39;49m(y)), \u001b[39mint\u001b[39;49m(r), (\u001b[39m1\u001b[39;49m), \u001b[39m1\u001b[39;49m)\n\u001b[0;32m     68\u001b[0m conf \u001b[39m=\u001b[39m np\u001b[39m.\u001b[39msum(thresh_img\u001b[39m*\u001b[39mcircle_img)\u001b[39m/\u001b[39m(np\u001b[39m.\u001b[39msum(circle_img)\u001b[39m*\u001b[39m\u001b[39m255\u001b[39m)\n\u001b[0;32m     70\u001b[0m \u001b[39mreturn\u001b[39;00m (x,y), r, conf\n",
      "\u001b[1;31mKeyboardInterrupt\u001b[0m: "
     ]
    }
   ],
   "source": [
    "train_data, val_data, test_data = loadData(args_data)"
   ]
  },
  {
   "attachments": {},
   "cell_type": "markdown",
   "metadata": {},
   "source": [
    "Now we setup our models and run our GAN trainer! This will train and output to tensorboard as it trains. Please set 'save' appropriately in args for log and tensorboard. This step is super easy.\n",
    "\n",
    "For the inner workings please reference models.py for models and gan.py for the trainer.\n",
    "The trainer also uses SynthTrainer.py and Trainer.py from the data_augmentation folder.\n",
    "\n",
    "Most of the basic training is done in gan.py however lots of logging of metrics occurs in SynthTrainer.py\n",
    "\n",
    "Trainer.py contains framework code to generically train various implementations of SynthTrainer. For the purpose of this project its best to mainly stick to gan.py for intuition on the actual models."
   ]
  },
  {
   "cell_type": "code",
   "execution_count": null,
   "metadata": {},
   "outputs": [],
   "source": [
    "import importlib\n",
    "importlib.reload(models)\n",
    "\n",
    "myUNET = models.UNETsmolr()\n",
    "myDisc = models.Discriminator()\n"
   ]
  },
  {
   "cell_type": "code",
   "execution_count": null,
   "metadata": {},
   "outputs": [
    {
     "data": {
      "text/plain": [
       "<bound method Module.parameters of UNETsmolr(\n",
       "  (drp): Dropout(p=0.5, inplace=False)\n",
       "  (sequence): ParameterList(\n",
       "      (0): Object of type: Conv2d\n",
       "      (1): Object of type: LeakyReLU\n",
       "      (2): Object of type: Conv2d\n",
       "      (3): Object of type: BatchNorm2d\n",
       "      (4): Object of type: LeakyReLU\n",
       "      (5): Object of type: Conv2d\n",
       "      (6): Object of type: BatchNorm2d\n",
       "      (7): Object of type: LeakyReLU\n",
       "      (8): Object of type: Conv2d\n",
       "      (9): Object of type: BatchNorm2d\n",
       "      (10): Object of type: LeakyReLU\n",
       "      (11): Object of type: Conv2d\n",
       "      (12): Object of type: BatchNorm2d\n",
       "      (13): Object of type: LeakyReLU\n",
       "      (14): Object of type: Conv2d\n",
       "      (15): Object of type: BatchNorm2d\n",
       "      (16): Object of type: LeakyReLU\n",
       "      (17): Object of type: Conv2d\n",
       "      (18): Object of type: BatchNorm2d\n",
       "      (19): Object of type: LeakyReLU\n",
       "      (20): Object of type: Conv2d\n",
       "      (21): Object of type: ReLU\n",
       "      (22): Object of type: ConvTranspose2d\n",
       "      (23): Object of type: BatchNorm2d\n",
       "      (24): Object of type: ReLU\n",
       "      (25): Object of type: ConvTranspose2d\n",
       "      (26): Object of type: BatchNorm2d\n",
       "      (27): Object of type: ReLU\n",
       "      (28): Object of type: ConvTranspose2d\n",
       "      (29): Object of type: BatchNorm2d\n",
       "      (30): Object of type: ReLU\n",
       "      (31): Object of type: ConvTranspose2d\n",
       "      (32): Object of type: BatchNorm2d\n",
       "      (33): Object of type: ReLU\n",
       "      (34): Object of type: ConvTranspose2d\n",
       "      (35): Object of type: BatchNorm2d\n",
       "      (36): Object of type: ReLU\n",
       "      (37): Object of type: ConvTranspose2d\n",
       "      (38): Object of type: BatchNorm2d\n",
       "      (39): Object of type: ReLU\n",
       "      (40): Object of type: ConvTranspose2d\n",
       "      (41): Object of type: BatchNorm2d\n",
       "      (42): Object of type: ReLU\n",
       "      (43): Object of type: ConvTranspose2d\n",
       "      (44): Object of type: Tanh\n",
       "    (0): Conv2d(3, 64, kernel_size=(4, 4), stride=(2, 2), padding=(1, 1))\n",
       "    (1): LeakyReLU(negative_slope=0.2, inplace=True)\n",
       "    (2): Conv2d(64, 128, kernel_size=(4, 4), stride=(2, 2), padding=(1, 1), bias=False)\n",
       "    (3): BatchNorm2d(128, eps=1e-05, momentum=0.1, affine=True, track_running_stats=True)\n",
       "    (4): LeakyReLU(negative_slope=0.2, inplace=True)\n",
       "    (5): Conv2d(128, 256, kernel_size=(4, 4), stride=(2, 2), padding=(1, 1), bias=False)\n",
       "    (6): BatchNorm2d(256, eps=1e-05, momentum=0.1, affine=True, track_running_stats=True)\n",
       "    (7): LeakyReLU(negative_slope=0.2, inplace=True)\n",
       "    (8): Conv2d(256, 512, kernel_size=(4, 4), stride=(2, 2), padding=(1, 1), bias=False)\n",
       "    (9): BatchNorm2d(512, eps=1e-05, momentum=0.1, affine=True, track_running_stats=True)\n",
       "    (10): LeakyReLU(negative_slope=0.2, inplace=True)\n",
       "    (11): Conv2d(512, 512, kernel_size=(4, 4), stride=(2, 2), padding=(1, 1), bias=False)\n",
       "    (12): BatchNorm2d(512, eps=1e-05, momentum=0.1, affine=True, track_running_stats=True)\n",
       "    (13): LeakyReLU(negative_slope=0.2, inplace=True)\n",
       "    (14): Conv2d(512, 512, kernel_size=(4, 4), stride=(2, 2), padding=(1, 1), bias=False)\n",
       "    (15): BatchNorm2d(512, eps=1e-05, momentum=0.1, affine=True, track_running_stats=True)\n",
       "    (16): LeakyReLU(negative_slope=0.2, inplace=True)\n",
       "    (17): Conv2d(512, 512, kernel_size=(4, 4), stride=(2, 2), padding=(1, 1), bias=False)\n",
       "    (18): BatchNorm2d(512, eps=1e-05, momentum=0.1, affine=True, track_running_stats=True)\n",
       "    (19): LeakyReLU(negative_slope=0.2, inplace=True)\n",
       "    (20): Conv2d(512, 512, kernel_size=(4, 4), stride=(2, 2), padding=(1, 1))\n",
       "    (21): ReLU(inplace=True)\n",
       "    (22): ConvTranspose2d(512, 512, kernel_size=(4, 4), stride=(2, 2), padding=(1, 1), bias=False)\n",
       "    (23): BatchNorm2d(512, eps=1e-05, momentum=0.1, affine=True, track_running_stats=True)\n",
       "    (24): ReLU(inplace=True)\n",
       "    (25): ConvTranspose2d(1024, 512, kernel_size=(4, 4), stride=(2, 2), padding=(1, 1), bias=False)\n",
       "    (26): BatchNorm2d(512, eps=1e-05, momentum=0.1, affine=True, track_running_stats=True)\n",
       "    (27): ReLU(inplace=True)\n",
       "    (28): ConvTranspose2d(1024, 512, kernel_size=(4, 4), stride=(2, 2), padding=(1, 1), bias=False)\n",
       "    (29): BatchNorm2d(512, eps=1e-05, momentum=0.1, affine=True, track_running_stats=True)\n",
       "    (30): ReLU(inplace=True)\n",
       "    (31): ConvTranspose2d(1024, 512, kernel_size=(4, 4), stride=(2, 2), padding=(1, 1), bias=False)\n",
       "    (32): BatchNorm2d(512, eps=1e-05, momentum=0.1, affine=True, track_running_stats=True)\n",
       "    (33): ReLU(inplace=True)\n",
       "    (34): ConvTranspose2d(1024, 256, kernel_size=(4, 4), stride=(2, 2), padding=(1, 1), bias=False)\n",
       "    (35): BatchNorm2d(256, eps=1e-05, momentum=0.1, affine=True, track_running_stats=True)\n",
       "    (36): ReLU(inplace=True)\n",
       "    (37): ConvTranspose2d(512, 128, kernel_size=(4, 4), stride=(2, 2), padding=(1, 1), bias=False)\n",
       "    (38): BatchNorm2d(128, eps=1e-05, momentum=0.1, affine=True, track_running_stats=True)\n",
       "    (39): ReLU(inplace=True)\n",
       "    (40): ConvTranspose2d(256, 64, kernel_size=(4, 4), stride=(2, 2), padding=(1, 1), bias=False)\n",
       "    (41): BatchNorm2d(64, eps=1e-05, momentum=0.1, affine=True, track_running_stats=True)\n",
       "    (42): ReLU(inplace=True)\n",
       "    (43): ConvTranspose2d(128, 3, kernel_size=(4, 4), stride=(2, 2), padding=(1, 1))\n",
       "    (44): Tanh()\n",
       "  )\n",
       ")>"
      ]
     },
     "execution_count": 8,
     "metadata": {},
     "output_type": "execute_result"
    }
   ],
   "source": [
    "myUNET.parameters"
   ]
  },
  {
   "cell_type": "code",
   "execution_count": 12,
   "metadata": {},
   "outputs": [
    {
     "name": "stderr",
     "output_type": "stream",
     "text": [
      "Epoch 1/60:  50%|█████     | 13752/27461 [04:21<03:44, 61.04batch/s]c:\\Users\\Karol\\.conda\\envs\\DL4H_CS598_2\\lib\\site-packages\\torch\\functional.py:504: UserWarning: torch.meshgrid: in an upcoming release, it will be required to pass the indexing argument. (Triggered internally at C:\\cb\\pytorch_1000000000000\\work\\aten\\src\\ATen\\native\\TensorShape.cpp:3484.)\n",
      "  return _VF.meshgrid(tensors, **kwargs)  # type: ignore[attr-defined]\n",
      "Running Validation: 100%|██████████| 137/137 [00:22<00:00,  6.17batch/s]\n",
      "Running Test: 100%|██████████| 290/290 [00:22<00:00, 13.09batch/s]\n",
      "Epoch 1/60: 27464batch [08:41, 52.64batch/s]                          \n",
      "Running Validation: 100%|██████████| 137/137 [00:21<00:00,  6.52batch/s]\n",
      "Running Test: 100%|██████████| 290/290 [00:21<00:00, 13.23batch/s]\n",
      "Running Validation: 100%|██████████| 137/137 [00:21<00:00,  6.26batch/s]\n",
      "Running Test: 100%|██████████| 290/290 [00:21<00:00, 13.52batch/s]\n",
      "Epoch 2/60: 27464batch [08:24, 54.46batch/s]                          \n",
      "Running Validation: 100%|██████████| 137/137 [00:19<00:00,  6.92batch/s]\n",
      "Running Test: 100%|██████████| 290/290 [00:20<00:00, 14.01batch/s]\n",
      "Running Validation: 100%|██████████| 137/137 [00:20<00:00,  6.82batch/s]\n",
      "Running Test: 100%|██████████| 290/290 [00:21<00:00, 13.72batch/s]\n",
      "Epoch 3/60: 27464batch [07:58, 57.39batch/s]                          \n",
      "Running Validation: 100%|██████████| 137/137 [00:19<00:00,  7.19batch/s]\n",
      "Running Test: 100%|██████████| 290/290 [00:21<00:00, 13.58batch/s]\n",
      "Running Validation: 100%|██████████| 137/137 [00:19<00:00,  6.99batch/s]\n",
      "Running Test: 100%|██████████| 290/290 [00:21<00:00, 13.63batch/s]\n",
      "Epoch 4/60: 27464batch [07:57, 57.47batch/s]                          \n",
      "Running Validation: 100%|██████████| 137/137 [00:19<00:00,  6.98batch/s]\n",
      "Running Test: 100%|██████████| 290/290 [00:20<00:00, 14.19batch/s]\n",
      "Running Validation: 100%|██████████| 137/137 [00:19<00:00,  7.11batch/s]\n",
      "Running Test: 100%|██████████| 290/290 [00:20<00:00, 13.91batch/s]\n",
      "Epoch 5/60: 27464batch [07:57, 57.47batch/s]                          \n",
      "Running Validation: 100%|██████████| 137/137 [00:18<00:00,  7.23batch/s]\n",
      "Running Test: 100%|██████████| 290/290 [00:20<00:00, 13.97batch/s]\n",
      "Running Validation: 100%|██████████| 137/137 [00:19<00:00,  6.95batch/s]\n",
      "Running Test: 100%|██████████| 290/290 [00:20<00:00, 13.87batch/s]\n",
      "Epoch 6/60: 27464batch [07:58, 57.42batch/s]                          \n",
      "Running Validation: 100%|██████████| 137/137 [00:19<00:00,  7.10batch/s]\n",
      "Running Test: 100%|██████████| 290/290 [00:20<00:00, 14.08batch/s]\n",
      "Running Validation: 100%|██████████| 137/137 [00:19<00:00,  7.10batch/s]\n",
      "Running Test: 100%|██████████| 290/290 [00:21<00:00, 13.38batch/s]\n",
      "Epoch 7/60: 27464batch [07:58, 57.35batch/s]                          \n",
      "Running Validation: 100%|██████████| 137/137 [00:19<00:00,  7.02batch/s]\n",
      "Running Test: 100%|██████████| 290/290 [00:20<00:00, 13.95batch/s]\n",
      "Running Validation: 100%|██████████| 137/137 [00:19<00:00,  6.90batch/s]\n",
      "Running Test: 100%|██████████| 290/290 [00:21<00:00, 13.67batch/s]\n",
      "Epoch 8/60: 27464batch [07:58, 57.35batch/s]                          \n",
      "Running Validation: 100%|██████████| 137/137 [00:19<00:00,  7.19batch/s]\n",
      "Running Test: 100%|██████████| 290/290 [00:20<00:00, 14.01batch/s]\n",
      "Running Validation: 100%|██████████| 137/137 [00:19<00:00,  7.04batch/s]\n",
      "Running Test: 100%|██████████| 290/290 [00:20<00:00, 13.86batch/s]\n",
      "Epoch 9/60: 27464batch [07:58, 57.44batch/s]                          \n",
      "Running Validation: 100%|██████████| 137/137 [00:19<00:00,  7.08batch/s]\n",
      "Running Test: 100%|██████████| 290/290 [00:20<00:00, 13.95batch/s]\n",
      "Running Validation: 100%|██████████| 137/137 [00:19<00:00,  7.15batch/s]\n",
      "Running Test: 100%|██████████| 290/290 [00:22<00:00, 12.85batch/s]\n",
      "Epoch 10/60: 27464batch [07:59, 57.26batch/s]                          \n",
      "Running Validation: 100%|██████████| 137/137 [00:19<00:00,  6.97batch/s]\n",
      "Running Test: 100%|██████████| 290/290 [00:20<00:00, 14.04batch/s]\n",
      "Running Validation: 100%|██████████| 137/137 [00:19<00:00,  6.91batch/s]\n",
      "Running Test: 100%|██████████| 290/290 [00:21<00:00, 13.76batch/s]\n",
      "Epoch 11/60: 27464batch [08:00, 57.20batch/s]                          \n",
      "Running Validation: 100%|██████████| 137/137 [00:19<00:00,  7.19batch/s]\n",
      "Running Test: 100%|██████████| 290/290 [00:20<00:00, 13.89batch/s]\n",
      "Running Validation: 100%|██████████| 137/137 [00:19<00:00,  6.93batch/s]\n",
      "Running Test: 100%|██████████| 290/290 [00:20<00:00, 13.90batch/s]\n",
      "Epoch 12/60: 27464batch [07:58, 57.43batch/s]                          \n",
      "Running Validation: 100%|██████████| 137/137 [00:19<00:00,  7.04batch/s]\n",
      "Running Test: 100%|██████████| 290/290 [00:21<00:00, 13.67batch/s]\n",
      "Running Validation: 100%|██████████| 137/137 [00:19<00:00,  7.03batch/s]\n",
      "Running Test: 100%|██████████| 290/290 [00:21<00:00, 13.62batch/s]\n",
      "Epoch 13/60: 27464batch [07:58, 57.40batch/s]                          \n",
      "Running Validation: 100%|██████████| 137/137 [00:19<00:00,  7.00batch/s]\n",
      "Running Test: 100%|██████████| 290/290 [00:20<00:00, 13.90batch/s]\n",
      "Running Validation: 100%|██████████| 137/137 [00:19<00:00,  7.01batch/s]\n",
      "Running Test: 100%|██████████| 290/290 [00:21<00:00, 13.73batch/s]\n",
      "Epoch 14/60: 27464batch [07:58, 57.42batch/s]                          \n",
      "Running Validation: 100%|██████████| 137/137 [00:18<00:00,  7.23batch/s]\n",
      "Running Test: 100%|██████████| 290/290 [00:21<00:00, 13.75batch/s]\n",
      "Running Validation: 100%|██████████| 137/137 [00:19<00:00,  6.96batch/s]\n",
      "Running Test: 100%|██████████| 290/290 [00:20<00:00, 13.91batch/s]\n",
      "Epoch 15/60: 27464batch [07:58, 57.46batch/s]                          \n",
      "Running Validation: 100%|██████████| 137/137 [00:19<00:00,  7.17batch/s]\n",
      "Running Test: 100%|██████████| 290/290 [00:20<00:00, 14.00batch/s]\n",
      "Running Validation: 100%|██████████| 137/137 [00:19<00:00,  7.10batch/s]\n",
      "Running Test: 100%|██████████| 290/290 [00:21<00:00, 13.46batch/s]\n",
      "Epoch 16/60: 27464batch [07:58, 57.41batch/s]                          \n",
      "Running Validation: 100%|██████████| 137/137 [00:19<00:00,  7.16batch/s]\n",
      "Running Test: 100%|██████████| 290/290 [00:20<00:00, 13.96batch/s]\n",
      "Running Validation: 100%|██████████| 137/137 [00:20<00:00,  6.79batch/s]\n",
      "Running Test: 100%|██████████| 290/290 [00:20<00:00, 13.97batch/s]\n",
      "Epoch 17/60: 27464batch [07:58, 57.39batch/s]                          \n",
      "Running Validation: 100%|██████████| 137/137 [00:19<00:00,  7.11batch/s]\n",
      "Running Test: 100%|██████████| 290/290 [00:20<00:00, 14.19batch/s]\n",
      "Running Validation: 100%|██████████| 137/137 [00:19<00:00,  7.05batch/s]\n",
      "Running Test: 100%|██████████| 290/290 [00:20<00:00, 13.85batch/s]\n",
      "Epoch 18/60: 27464batch [07:57, 57.48batch/s]                          \n",
      "Running Validation: 100%|██████████| 137/137 [00:19<00:00,  7.08batch/s]\n",
      "Running Test: 100%|██████████| 290/290 [00:20<00:00, 14.15batch/s]\n",
      "Running Validation: 100%|██████████| 137/137 [00:19<00:00,  7.02batch/s]\n",
      "Running Test: 100%|██████████| 290/290 [00:21<00:00, 13.51batch/s]\n",
      "Epoch 19/60: 27464batch [07:58, 57.38batch/s]                          \n",
      "Running Validation: 100%|██████████| 137/137 [00:18<00:00,  7.23batch/s]\n",
      "Running Test: 100%|██████████| 290/290 [00:21<00:00, 13.81batch/s]\n",
      "Running Validation: 100%|██████████| 137/137 [00:19<00:00,  6.93batch/s]\n",
      "Running Test: 100%|██████████| 290/290 [00:20<00:00, 13.98batch/s]\n",
      "Epoch 20/60: 27464batch [07:58, 57.43batch/s]                          \n",
      "Running Validation: 100%|██████████| 137/137 [00:19<00:00,  6.95batch/s]\n",
      "Running Test: 100%|██████████| 290/290 [00:20<00:00, 14.03batch/s]\n",
      "Running Validation: 100%|██████████| 137/137 [00:19<00:00,  7.10batch/s]\n",
      "Running Test: 100%|██████████| 290/290 [00:21<00:00, 13.79batch/s]/s]\n",
      "Epoch 21/60: 27464batch [07:57, 57.48batch/s]                          \n",
      "Running Validation: 100%|██████████| 137/137 [00:19<00:00,  7.15batch/s]\n",
      "Running Test: 100%|██████████| 290/290 [00:20<00:00, 14.07batch/s]\n",
      "Running Validation: 100%|██████████| 137/137 [00:19<00:00,  7.02batch/s]\n",
      "Running Test: 100%|██████████| 290/290 [00:21<00:00, 13.72batch/s]\n",
      "Epoch 22/60: 27464batch [07:58, 57.41batch/s]                          \n",
      "Running Validation: 100%|██████████| 137/137 [00:19<00:00,  7.20batch/s]\n",
      "Running Test: 100%|██████████| 290/290 [00:20<00:00, 14.00batch/s]\n",
      "Running Validation: 100%|██████████| 137/137 [00:19<00:00,  7.04batch/s]\n",
      "Running Test: 100%|██████████| 290/290 [00:21<00:00, 13.74batch/s]\n",
      "Epoch 23/60: 27464batch [07:58, 57.44batch/s]                          \n",
      "Running Validation: 100%|██████████| 137/137 [00:19<00:00,  6.91batch/s]\n",
      "Running Test: 100%|██████████| 290/290 [00:20<00:00, 13.95batch/s]\n",
      "Running Validation: 100%|██████████| 137/137 [00:19<00:00,  7.06batch/s]\n",
      "Running Test: 100%|██████████| 290/290 [00:21<00:00, 13.62batch/s]\n",
      "Epoch 24/60: 27464batch [07:58, 57.43batch/s]                          \n",
      "Running Validation: 100%|██████████| 137/137 [00:19<00:00,  7.15batch/s]\n",
      "Running Test: 100%|██████████| 290/290 [00:20<00:00, 13.95batch/s]\n",
      "Running Validation: 100%|██████████| 137/137 [00:19<00:00,  6.99batch/s]\n",
      "Running Test: 100%|██████████| 290/290 [00:20<00:00, 14.00batch/s]\n",
      "Epoch 25/60: 27464batch [07:57, 57.49batch/s]                          \n",
      "Running Validation: 100%|██████████| 137/137 [00:19<00:00,  7.16batch/s]\n",
      "Running Test: 100%|██████████| 290/290 [00:21<00:00, 13.74batch/s]\n",
      "Running Validation: 100%|██████████| 137/137 [00:19<00:00,  7.01batch/s]\n",
      "Running Test: 100%|██████████| 290/290 [00:21<00:00, 13.51batch/s]/s]\n",
      "Epoch 26/60: 27464batch [07:58, 57.40batch/s]                          \n",
      "Running Validation: 100%|██████████| 137/137 [00:19<00:00,  7.08batch/s]\n",
      "Running Test: 100%|██████████| 290/290 [00:20<00:00, 14.01batch/s]\n",
      "Running Validation: 100%|██████████| 137/137 [00:20<00:00,  6.80batch/s]\n",
      "Running Test: 100%|██████████| 290/290 [00:20<00:00, 14.02batch/s]\n",
      "Epoch 27/60: 27464batch [07:58, 57.41batch/s]                          \n",
      "Running Validation: 100%|██████████| 137/137 [00:19<00:00,  7.19batch/s]\n",
      "Running Test: 100%|██████████| 290/290 [00:20<00:00, 13.89batch/s]\n",
      "Running Validation: 100%|██████████| 137/137 [00:19<00:00,  6.97batch/s]\n",
      "Running Test: 100%|██████████| 290/290 [00:20<00:00, 13.95batch/s]\n",
      "Epoch 28/60: 27464batch [07:57, 57.47batch/s]                          \n",
      "Running Validation: 100%|██████████| 137/137 [00:19<00:00,  7.12batch/s]\n",
      "Running Test: 100%|██████████| 290/290 [00:20<00:00, 14.08batch/s]\n",
      "Running Validation: 100%|██████████| 137/137 [00:19<00:00,  6.96batch/s]\n",
      "Running Test: 100%|██████████| 290/290 [00:21<00:00, 13.37batch/s]\n",
      "Epoch 29/60: 27464batch [07:58, 57.37batch/s]                          \n",
      "Running Validation: 100%|██████████| 137/137 [00:19<00:00,  7.08batch/s]\n",
      "Running Test: 100%|██████████| 290/290 [00:21<00:00, 13.59batch/s]\n",
      "Running Validation: 100%|██████████| 137/137 [00:20<00:00,  6.79batch/s]\n",
      "Running Test: 100%|██████████| 290/290 [00:20<00:00, 13.92batch/s]\n",
      "Epoch 30/60: 27464batch [07:58, 57.39batch/s]                          \n",
      "Running Validation: 100%|██████████| 137/137 [00:19<00:00,  7.06batch/s]\n",
      "Running Test: 100%|██████████| 290/290 [00:20<00:00, 14.03batch/s]\n",
      "Running Validation: 100%|██████████| 137/137 [00:20<00:00,  6.73batch/s]\n",
      "Running Test: 100%|██████████| 290/290 [00:20<00:00, 13.93batch/s]\n",
      "Epoch 31/60: 27464batch [07:58, 57.39batch/s]                          \n",
      "Running Validation: 100%|██████████| 137/137 [00:19<00:00,  7.08batch/s]\n",
      "Running Test: 100%|██████████| 290/290 [00:20<00:00, 14.18batch/s]\n",
      "Running Validation: 100%|██████████| 137/137 [00:19<00:00,  6.87batch/s]\n",
      "Running Test: 100%|██████████| 290/290 [00:22<00:00, 13.15batch/s]\n",
      "Epoch 32/60: 27464batch [07:59, 57.28batch/s]                          \n",
      "Running Validation: 100%|██████████| 137/137 [00:19<00:00,  7.00batch/s]\n",
      "Running Test: 100%|██████████| 290/290 [00:21<00:00, 13.62batch/s]\n",
      "Running Validation: 100%|██████████| 137/137 [00:20<00:00,  6.67batch/s]\n",
      "Running Test: 100%|██████████| 290/290 [00:20<00:00, 13.86batch/s]\n",
      "Epoch 33/60: 27464batch [07:58, 57.35batch/s]                          \n",
      "Running Validation: 100%|██████████| 137/137 [00:19<00:00,  6.97batch/s]\n",
      "Running Test: 100%|██████████| 290/290 [00:20<00:00, 14.06batch/s]\n",
      "Running Validation: 100%|██████████| 137/137 [00:19<00:00,  6.89batch/s]\n",
      "Running Test: 100%|██████████| 290/290 [00:21<00:00, 13.65batch/s]/s]\n",
      "Epoch 34/60: 27464batch [07:58, 57.39batch/s]                          \n",
      "Running Validation: 100%|██████████| 137/137 [00:20<00:00,  6.80batch/s]\n",
      "Running Test: 100%|██████████| 290/290 [00:20<00:00, 14.18batch/s]\n",
      "Running Validation: 100%|██████████| 137/137 [00:20<00:00,  6.84batch/s]\n",
      "Running Test: 100%|██████████| 290/290 [00:21<00:00, 13.70batch/s]\n",
      "Epoch 35/60: 27464batch [07:58, 57.37batch/s]                          \n",
      "Running Validation: 100%|██████████| 137/137 [00:19<00:00,  6.93batch/s]\n",
      "Running Test: 100%|██████████| 290/290 [00:21<00:00, 13.66batch/s]\n",
      "Running Validation: 100%|██████████| 137/137 [00:20<00:00,  6.76batch/s]\n",
      "Running Test: 100%|██████████| 290/290 [00:21<00:00, 13.64batch/s]\n",
      "Epoch 36/60: 27464batch [07:59, 57.33batch/s]                          \n",
      "Running Validation: 100%|██████████| 137/137 [00:20<00:00,  6.80batch/s]\n",
      "Running Test: 100%|██████████| 290/290 [00:20<00:00, 14.12batch/s]\n",
      "Running Validation: 100%|██████████| 137/137 [00:19<00:00,  6.86batch/s]\n",
      "Running Test: 100%|██████████| 290/290 [00:21<00:00, 13.81batch/s]\n",
      "Epoch 37/60: 27464batch [07:58, 57.42batch/s]                          \n",
      "Running Validation: 100%|██████████| 137/137 [00:19<00:00,  6.85batch/s]\n",
      "Running Test: 100%|██████████| 290/290 [00:20<00:00, 14.05batch/s]\n",
      "Running Validation: 100%|██████████| 137/137 [00:20<00:00,  6.81batch/s]\n",
      "Running Test: 100%|██████████| 290/290 [00:21<00:00, 13.74batch/s]\n",
      "Epoch 38/60: 27464batch [07:58, 57.37batch/s]                          \n",
      "Running Validation: 100%|██████████| 137/137 [00:19<00:00,  6.96batch/s]\n",
      "Running Test: 100%|██████████| 290/290 [00:21<00:00, 13.51batch/s]\n",
      "Running Validation: 100%|██████████| 137/137 [00:20<00:00,  6.79batch/s]\n",
      "Running Test: 100%|██████████| 290/290 [00:20<00:00, 13.87batch/s]\n",
      "Epoch 39/60: 27464batch [07:58, 57.40batch/s]                          \n",
      "Running Validation: 100%|██████████| 137/137 [00:20<00:00,  6.76batch/s]\n",
      "Running Test: 100%|██████████| 290/290 [00:20<00:00, 14.17batch/s]\n",
      "Running Validation: 100%|██████████| 137/137 [00:20<00:00,  6.84batch/s]\n",
      "Running Test: 100%|██████████| 290/290 [00:20<00:00, 13.89batch/s]\n",
      "Epoch 40/60: 27464batch [07:58, 57.40batch/s]                          \n",
      "Running Validation: 100%|██████████| 137/137 [00:19<00:00,  6.98batch/s]\n",
      "Running Test: 100%|██████████| 290/290 [00:20<00:00, 14.04batch/s]\n",
      "Running Validation: 100%|██████████| 137/137 [00:20<00:00,  6.80batch/s]\n",
      "Running Test: 100%|██████████| 290/290 [00:20<00:00, 13.95batch/s]\n",
      "Epoch 41/60: 27464batch [07:58, 57.41batch/s]                          \n",
      "Running Validation: 100%|██████████| 137/137 [00:19<00:00,  6.93batch/s]\n",
      "Running Test: 100%|██████████| 290/290 [00:20<00:00, 14.00batch/s]\n",
      "Running Validation: 100%|██████████| 137/137 [00:19<00:00,  6.85batch/s]\n",
      "Running Test: 100%|██████████| 290/290 [00:21<00:00, 13.35batch/s]\n",
      "Epoch 42/60: 27464batch [07:59, 57.32batch/s]                          \n",
      "Running Validation: 100%|██████████| 137/137 [00:20<00:00,  6.85batch/s]\n",
      "Running Test: 100%|██████████| 290/290 [00:20<00:00, 13.82batch/s]\n",
      "Running Validation: 100%|██████████| 137/137 [00:20<00:00,  6.81batch/s]\n",
      "Running Test: 100%|██████████| 290/290 [00:20<00:00, 13.98batch/s]\n",
      "Epoch 43/60: 27464batch [07:58, 57.43batch/s]                          \n",
      "Running Validation: 100%|██████████| 137/137 [00:19<00:00,  6.92batch/s]\n",
      "Running Test: 100%|██████████| 290/290 [00:20<00:00, 14.03batch/s]\n",
      "Running Validation: 100%|██████████| 137/137 [00:20<00:00,  6.80batch/s]\n",
      "Running Test: 100%|██████████| 290/290 [00:20<00:00, 13.87batch/s]\n",
      "Epoch 44/60: 27464batch [07:58, 57.38batch/s]                          \n",
      "Running Validation: 100%|██████████| 137/137 [00:20<00:00,  6.83batch/s]\n",
      "Running Test: 100%|██████████| 290/290 [00:20<00:00, 14.13batch/s]\n",
      "Running Validation: 100%|██████████| 137/137 [00:19<00:00,  6.86batch/s]\n",
      "Running Test: 100%|██████████| 290/290 [00:21<00:00, 13.52batch/s]\n",
      "Epoch 45/60: 27464batch [07:58, 57.34batch/s]                          \n",
      "Running Validation: 100%|██████████| 137/137 [00:19<00:00,  6.87batch/s]\n",
      "Running Test: 100%|██████████| 290/290 [00:21<00:00, 13.63batch/s]\n",
      "Running Validation: 100%|██████████| 137/137 [00:20<00:00,  6.84batch/s]\n",
      "Running Test: 100%|██████████| 290/290 [00:21<00:00, 13.80batch/s]\n",
      "Epoch 46/60: 27464batch [07:58, 57.39batch/s]                          \n",
      "Running Validation: 100%|██████████| 137/137 [00:19<00:00,  6.89batch/s]\n",
      "Running Test: 100%|██████████| 290/290 [00:20<00:00, 13.90batch/s]\n",
      "Running Validation: 100%|██████████| 137/137 [00:20<00:00,  6.80batch/s]\n",
      "Running Test: 100%|██████████| 290/290 [00:20<00:00, 13.96batch/s]\n",
      "Epoch 47/60: 27464batch [07:58, 57.41batch/s]                          \n",
      "Running Validation: 100%|██████████| 137/137 [00:20<00:00,  6.79batch/s]\n",
      "Running Test: 100%|██████████| 290/290 [00:20<00:00, 14.05batch/s]\n",
      "Running Validation: 100%|██████████| 137/137 [00:19<00:00,  6.89batch/s]\n",
      "Running Test: 100%|██████████| 290/290 [00:21<00:00, 13.71batch/s]\n",
      "Epoch 48/60: 27464batch [07:58, 57.38batch/s]                          \n",
      "Running Validation: 100%|██████████| 137/137 [00:19<00:00,  6.97batch/s]\n",
      "Running Test: 100%|██████████| 290/290 [00:21<00:00, 13.50batch/s]\n",
      "Running Validation: 100%|██████████| 137/137 [00:20<00:00,  6.83batch/s]\n",
      "Running Test: 100%|██████████| 290/290 [00:21<00:00, 13.68batch/s]\n",
      "Epoch 49/60: 27464batch [07:58, 57.36batch/s]                          \n",
      "Running Validation: 100%|██████████| 137/137 [00:20<00:00,  6.79batch/s]\n",
      "Running Test: 100%|██████████| 290/290 [00:20<00:00, 14.11batch/s]\n",
      "Running Validation: 100%|██████████| 137/137 [00:19<00:00,  6.94batch/s]\n",
      "Running Test: 100%|██████████| 290/290 [00:21<00:00, 13.57batch/s]\n",
      "Epoch 50/60: 27464batch [07:58, 57.39batch/s]                          \n",
      "Running Validation: 100%|██████████| 137/137 [00:19<00:00,  6.95batch/s]\n",
      "Running Test: 100%|██████████| 290/290 [00:20<00:00, 14.00batch/s]\n",
      "Running Validation: 100%|██████████| 137/137 [00:20<00:00,  6.75batch/s]\n",
      "Running Test: 100%|██████████| 290/290 [00:21<00:00, 13.81batch/s]\n",
      "Epoch 51/60: 27464batch [07:58, 57.36batch/s]                          \n",
      "Running Validation: 100%|██████████| 137/137 [00:19<00:00,  6.97batch/s]\n",
      "Running Test: 100%|██████████| 290/290 [00:21<00:00, 13.77batch/s]\n",
      "Running Validation: 100%|██████████| 137/137 [00:20<00:00,  6.70batch/s]\n",
      "Running Test: 100%|██████████| 290/290 [00:21<00:00, 13.66batch/s]\n",
      "Epoch 52/60: 27464batch [07:59, 57.31batch/s]                          \n",
      "Running Validation: 100%|██████████| 137/137 [00:20<00:00,  6.72batch/s]\n",
      "Running Test: 100%|██████████| 290/290 [00:20<00:00, 14.03batch/s]\n",
      "Running Validation: 100%|██████████| 137/137 [00:19<00:00,  6.90batch/s]\n",
      "Running Test: 100%|██████████| 290/290 [00:21<00:00, 13.76batch/s]\n",
      "Epoch 53/60: 27464batch [07:58, 57.40batch/s]                          \n",
      "Running Validation: 100%|██████████| 137/137 [00:19<00:00,  6.97batch/s]\n",
      "Running Test: 100%|██████████| 290/290 [00:20<00:00, 14.04batch/s]\n",
      "Running Validation: 100%|██████████| 137/137 [00:20<00:00,  6.75batch/s]\n",
      "Running Test: 100%|██████████| 290/290 [00:20<00:00, 14.03batch/s]\n",
      "Epoch 54/60: 27464batch [07:58, 57.39batch/s]                          \n",
      "Running Validation: 100%|██████████| 137/137 [00:19<00:00,  6.95batch/s]\n",
      "Running Test: 100%|██████████| 290/290 [00:20<00:00, 14.00batch/s]\n",
      "Running Validation: 100%|██████████| 137/137 [00:20<00:00,  6.80batch/s]\n",
      "Running Test: 100%|██████████| 290/290 [00:21<00:00, 13.63batch/s]\n",
      "Epoch 55/60: 27464batch [07:58, 57.34batch/s]                          \n",
      "Running Validation: 100%|██████████| 137/137 [00:20<00:00,  6.73batch/s]\n",
      "Running Test: 100%|██████████| 290/290 [00:20<00:00, 13.85batch/s]\n",
      "Running Validation: 100%|██████████| 137/137 [00:19<00:00,  6.85batch/s]\n",
      "Running Test: 100%|██████████| 290/290 [00:20<00:00, 13.88batch/s]\n",
      "Epoch 56/60: 27464batch [07:58, 57.41batch/s]                          \n",
      "Running Validation: 100%|██████████| 137/137 [00:19<00:00,  6.93batch/s]\n",
      "Running Test: 100%|██████████| 290/290 [00:20<00:00, 13.86batch/s]\n",
      "Running Validation: 100%|██████████| 137/137 [00:20<00:00,  6.78batch/s]\n",
      "Running Test: 100%|██████████| 290/290 [00:20<00:00, 14.08batch/s]\n",
      "Epoch 57/60: 27464batch [07:58, 57.41batch/s]                          \n",
      "Running Validation: 100%|██████████| 137/137 [00:19<00:00,  6.92batch/s]\n",
      "Running Test: 100%|██████████| 290/290 [00:21<00:00, 13.79batch/s]\n",
      "Running Validation: 100%|██████████| 137/137 [00:19<00:00,  6.89batch/s]\n",
      "Running Test: 100%|██████████| 290/290 [00:21<00:00, 13.65batch/s]\n",
      "Epoch 58/60: 27464batch [07:58, 57.36batch/s]                          \n",
      "Running Validation: 100%|██████████| 137/137 [00:20<00:00,  6.71batch/s]\n",
      "Running Test: 100%|██████████| 290/290 [00:20<00:00, 14.01batch/s]\n",
      "Running Validation: 100%|██████████| 137/137 [00:20<00:00,  6.83batch/s]\n",
      "Running Test: 100%|██████████| 290/290 [00:20<00:00, 13.92batch/s]\n",
      "Epoch 59/60: 27464batch [07:58, 57.37batch/s]                          \n",
      "Running Validation: 100%|██████████| 137/137 [00:19<00:00,  6.94batch/s]\n",
      "Running Test: 100%|██████████| 290/290 [00:20<00:00, 13.96batch/s]\n",
      "Running Validation: 100%|██████████| 137/137 [00:20<00:00,  6.80batch/s]\n",
      "Running Test: 100%|██████████| 290/290 [00:20<00:00, 13.94batch/s]\n",
      "Epoch 60/60: 27464batch [07:58, 57.38batch/s]                          \n",
      "Running Validation: 100%|██████████| 137/137 [00:19<00:00,  6.93batch/s]\n",
      "Running Test: 100%|██████████| 290/290 [00:20<00:00, 13.84batch/s]\n"
     ]
    },
    {
     "data": {
      "text/plain": [
       "<gan.GANTrainer at 0x1a281443610>"
      ]
     },
     "execution_count": 12,
     "metadata": {},
     "output_type": "execute_result"
    }
   ],
   "source": [
    "#importlib.reload(gan)\n",
    "args['save'] = 'C:/Users/Karol/Documents/DL4H/runs/smol_nodark_60ep{}'.format(datetime.datetime.now().strftime('%Y-%m-%d_%H-%M-%S'))\n",
    "gan.run(args, myUNET, myDisc, train_data, val_data, test_data)"
   ]
  },
  {
   "cell_type": "code",
   "execution_count": null,
   "metadata": {},
   "outputs": [],
   "source": [
    "import torch\n",
    "torch.cuda.empty_cache()\n",
    "\n"
   ]
  },
  {
   "cell_type": "code",
   "execution_count": null,
   "metadata": {},
   "outputs": [],
   "source": [
    "dir()\n"
   ]
  },
  {
   "cell_type": "code",
   "execution_count": null,
   "metadata": {},
   "outputs": [],
   "source": [
    "hold = dir()\n",
    "for x in hold:\n",
    "    if x != 'torch' and x != '_oh':\n",
    "        xc = 'del '+x\n",
    "        print(xc)\n",
    "        exec(xc)\n",
    "del compose_smoke_and_vid_img\n",
    "del VideoLoader\n",
    "del SynthTrainer\n",
    "del SynthSmokeLoader\n",
    "\n",
    "del getDatasets\n",
    "del generateVideo\n",
    "\n",
    "del models\n",
    "del myDisc\n",
    "del myUNET\n",
    "del gan\n",
    "del test_data\n",
    "del val_data\n",
    "del train_data\n",
    "del synthDatafromVidData\n"
   ]
  },
  {
   "attachments": {},
   "cell_type": "markdown",
   "metadata": {},
   "source": [
    "Run training, validation, and test for scenario 2. This is full u-net and no dark channel."
   ]
  },
  {
   "cell_type": "markdown",
   "metadata": {},
   "source": []
  },
  {
   "cell_type": "code",
   "execution_count": 18,
   "metadata": {},
   "outputs": [
    {
     "name": "stderr",
     "output_type": "stream",
     "text": [
      "Running Validation: 100%|██████████| 137/137 [00:19<00:00,  6.97batch/s]\n",
      "Running Test: 100%|██████████| 290/290 [00:20<00:00, 13.86batch/s]\n",
      "Epoch 1/60: 27464batch [08:57, 51.11batch/s]                          \n",
      "Running Validation: 100%|██████████| 137/137 [00:19<00:00,  7.09batch/s]\n",
      "Running Test: 100%|██████████| 290/290 [00:21<00:00, 13.69batch/s]\n",
      "Running Validation: 100%|██████████| 137/137 [00:19<00:00,  6.92batch/s]\n",
      "Running Test: 100%|██████████| 290/290 [00:21<00:00, 13.25batch/s]\n",
      "Epoch 2/60: 27464batch [08:47, 52.06batch/s]                          \n",
      "Running Validation: 100%|██████████| 137/137 [00:19<00:00,  7.09batch/s]\n",
      "Running Test: 100%|██████████| 290/290 [00:21<00:00, 13.41batch/s]\n",
      "Running Validation: 100%|██████████| 137/137 [00:19<00:00,  7.06batch/s]\n",
      "Running Test: 100%|██████████| 290/290 [00:21<00:00, 13.65batch/s]\n",
      "Epoch 3/60: 27464batch [08:38, 52.92batch/s]                          \n",
      "Running Validation: 100%|██████████| 137/137 [00:19<00:00,  7.13batch/s]\n",
      "Running Test: 100%|██████████| 290/290 [00:21<00:00, 13.65batch/s]\n",
      "Running Validation: 100%|██████████| 137/137 [00:19<00:00,  7.04batch/s]\n",
      "Running Test: 100%|██████████| 290/290 [00:21<00:00, 13.62batch/s]\n",
      "Epoch 4/60: 27464batch [08:39, 52.91batch/s]                          \n",
      "Running Validation: 100%|██████████| 137/137 [00:19<00:00,  7.09batch/s]\n",
      "Running Test: 100%|██████████| 290/290 [00:21<00:00, 13.57batch/s]\n",
      "Running Validation: 100%|██████████| 137/137 [00:19<00:00,  7.11batch/s]\n",
      "Running Test: 100%|██████████| 290/290 [00:21<00:00, 13.47batch/s]\n",
      "Epoch 5/60: 27464batch [08:39, 52.89batch/s]                          \n",
      "Running Validation: 100%|██████████| 137/137 [00:19<00:00,  7.14batch/s]\n",
      "Running Test: 100%|██████████| 290/290 [00:21<00:00, 13.37batch/s]\n",
      "Running Validation: 100%|██████████| 137/137 [00:19<00:00,  7.03batch/s]\n",
      "Running Test: 100%|██████████| 290/290 [00:21<00:00, 13.59batch/s]\n",
      "Epoch 6/60: 27464batch [08:39, 52.87batch/s]                          \n",
      "Running Validation: 100%|██████████| 137/137 [00:19<00:00,  7.16batch/s]\n",
      "Running Test: 100%|██████████| 290/290 [00:21<00:00, 13.49batch/s]\n",
      "Running Validation: 100%|██████████| 137/137 [00:19<00:00,  7.09batch/s]\n",
      "Running Test: 100%|██████████| 290/290 [00:21<00:00, 13.66batch/s]\n",
      "Epoch 7/60: 27464batch [08:39, 52.85batch/s]                          \n",
      "Running Validation: 100%|██████████| 137/137 [00:19<00:00,  7.17batch/s]\n",
      "Running Test: 100%|██████████| 290/290 [00:21<00:00, 13.24batch/s]\n",
      "Running Validation: 100%|██████████| 137/137 [00:19<00:00,  6.97batch/s]\n",
      "Running Test: 100%|██████████| 290/290 [00:21<00:00, 13.70batch/s]s]\n",
      "Epoch 8/60: 27464batch [08:39, 52.85batch/s]                          \n",
      "Running Validation: 100%|██████████| 137/137 [00:19<00:00,  7.11batch/s]\n",
      "Running Test: 100%|██████████| 290/290 [00:21<00:00, 13.60batch/s]\n",
      "Running Validation: 100%|██████████| 137/137 [00:19<00:00,  6.92batch/s]\n",
      "Running Test: 100%|██████████| 290/290 [00:21<00:00, 13.54batch/s]\n",
      "Epoch 9/60: 27464batch [08:40, 52.81batch/s]                          \n",
      "Running Validation: 100%|██████████| 137/137 [00:19<00:00,  7.10batch/s]\n",
      "Running Test: 100%|██████████| 290/290 [00:21<00:00, 13.55batch/s]\n",
      "Running Validation: 100%|██████████| 137/137 [00:20<00:00,  6.77batch/s]\n",
      "Running Test: 100%|██████████| 290/290 [00:20<00:00, 13.97batch/s]\n",
      "Epoch 10/60: 27464batch [08:39, 52.82batch/s]                          \n",
      "Running Validation: 100%|██████████| 137/137 [00:19<00:00,  6.97batch/s]\n",
      "Running Test: 100%|██████████| 290/290 [00:21<00:00, 13.79batch/s]\n",
      "Running Validation: 100%|██████████| 137/137 [00:19<00:00,  6.89batch/s]\n",
      "Running Test: 100%|██████████| 290/290 [00:21<00:00, 13.78batch/s]\n",
      "Epoch 11/60: 27464batch [08:39, 52.82batch/s]                          \n",
      "Running Validation: 100%|██████████| 137/137 [00:19<00:00,  7.04batch/s]\n",
      "Running Test: 100%|██████████| 290/290 [00:20<00:00, 13.86batch/s]\n",
      "Running Validation: 100%|██████████| 137/137 [00:19<00:00,  6.94batch/s]\n",
      "Running Test: 100%|██████████| 290/290 [00:21<00:00, 13.79batch/s]\n",
      "Epoch 12/60: 27464batch [08:39, 52.88batch/s]                          \n",
      "Running Validation: 100%|██████████| 137/137 [00:19<00:00,  7.04batch/s]\n",
      "Running Test: 100%|██████████| 290/290 [00:20<00:00, 13.92batch/s]\n",
      "Running Validation: 100%|██████████| 137/137 [00:19<00:00,  6.87batch/s]\n",
      "Running Test: 100%|██████████| 290/290 [00:20<00:00, 14.03batch/s]\n",
      "Epoch 13/60: 27464batch [08:38, 52.92batch/s]                          \n",
      "Running Validation: 100%|██████████| 137/137 [00:19<00:00,  6.90batch/s]\n",
      "Running Test: 100%|██████████| 290/290 [00:20<00:00, 13.87batch/s]\n",
      "Running Validation: 100%|██████████| 137/137 [00:19<00:00,  6.98batch/s]\n",
      "Running Test: 100%|██████████| 290/290 [00:20<00:00, 13.81batch/s]\n",
      "Epoch 14/60: 27464batch [08:39, 52.91batch/s]                          \n",
      "Running Validation: 100%|██████████| 137/137 [00:19<00:00,  6.98batch/s]\n",
      "Running Test: 100%|██████████| 290/290 [00:20<00:00, 13.81batch/s]\n",
      "Running Validation: 100%|██████████| 137/137 [00:19<00:00,  7.04batch/s]\n",
      "Running Test: 100%|██████████| 290/290 [00:21<00:00, 13.68batch/s]\n",
      "Epoch 15/60: 27464batch [08:39, 52.82batch/s]                          \n",
      "Running Validation: 100%|██████████| 137/137 [00:19<00:00,  7.04batch/s]\n",
      "Running Test: 100%|██████████| 290/290 [00:20<00:00, 13.87batch/s]\n",
      "Running Validation: 100%|██████████| 137/137 [00:19<00:00,  6.95batch/s]\n",
      "Running Test: 100%|██████████| 290/290 [00:21<00:00, 13.79batch/s]\n",
      "Epoch 16/60: 27464batch [08:39, 52.85batch/s]                          \n",
      "Running Validation: 100%|██████████| 137/137 [00:19<00:00,  7.06batch/s]\n",
      "Running Test: 100%|██████████| 290/290 [00:20<00:00, 13.82batch/s]\n",
      "Running Validation: 100%|██████████| 137/137 [00:19<00:00,  7.04batch/s]\n",
      "Running Test: 100%|██████████| 290/290 [00:20<00:00, 13.81batch/s]\n",
      "Epoch 17/60: 27464batch [08:39, 52.86batch/s]                          \n",
      "Running Validation: 100%|██████████| 137/137 [00:19<00:00,  7.12batch/s]\n",
      "Running Test: 100%|██████████| 290/290 [00:20<00:00, 13.89batch/s]\n",
      "Running Validation: 100%|██████████| 137/137 [00:19<00:00,  7.03batch/s]\n",
      "Running Test: 100%|██████████| 290/290 [00:21<00:00, 13.70batch/s]\n",
      "Epoch 18/60: 27464batch [08:39, 52.90batch/s]                          \n",
      "Running Validation: 100%|██████████| 137/137 [00:19<00:00,  7.07batch/s]\n",
      "Running Test: 100%|██████████| 290/290 [00:21<00:00, 13.75batch/s]\n",
      "Running Validation: 100%|██████████| 137/137 [00:19<00:00,  6.98batch/s]\n",
      "Running Test: 100%|██████████| 290/290 [00:21<00:00, 13.57batch/s]\n",
      "Epoch 19/60: 27464batch [08:58, 50.98batch/s]                          \n",
      "Running Validation: 100%|██████████| 137/137 [00:20<00:00,  6.60batch/s]\n",
      "Running Test: 100%|██████████| 290/290 [00:21<00:00, 13.30batch/s]\n",
      "Running Validation: 100%|██████████| 137/137 [00:21<00:00,  6.33batch/s]\n",
      "Running Test: 100%|██████████| 290/290 [00:23<00:00, 12.59batch/s]\n",
      "Epoch 20/60: 27464batch [09:21, 48.95batch/s]                          \n",
      "Running Validation: 100%|██████████| 137/137 [00:20<00:00,  6.79batch/s]\n",
      "Running Test: 100%|██████████| 290/290 [00:22<00:00, 12.83batch/s]\n",
      "Running Validation: 100%|██████████| 137/137 [00:20<00:00,  6.65batch/s]\n",
      "Running Test: 100%|██████████| 290/290 [00:21<00:00, 13.37batch/s]\n",
      "Epoch 21/60: 27464batch [09:03, 50.49batch/s]                          \n",
      "Running Validation: 100%|██████████| 137/137 [00:20<00:00,  6.85batch/s]\n",
      "Running Test: 100%|██████████| 290/290 [00:22<00:00, 12.99batch/s]\n",
      "Running Validation: 100%|██████████| 137/137 [00:20<00:00,  6.72batch/s]\n",
      "Running Test: 100%|██████████| 290/290 [00:21<00:00, 13.27batch/s]\n",
      "Epoch 22/60: 27464batch [08:55, 51.29batch/s]                          \n",
      "Running Validation: 100%|██████████| 137/137 [00:21<00:00,  6.49batch/s]\n",
      "Running Test: 100%|██████████| 290/290 [00:22<00:00, 13.15batch/s]\n",
      "Running Validation: 100%|██████████| 137/137 [00:21<00:00,  6.47batch/s]\n",
      "Running Test: 100%|██████████| 290/290 [00:22<00:00, 13.13batch/s]\n",
      "Epoch 23/60: 27464batch [08:43, 52.46batch/s]                          \n",
      "Running Validation: 100%|██████████| 137/137 [00:20<00:00,  6.73batch/s]\n",
      "Running Test: 100%|██████████| 290/290 [00:22<00:00, 12.80batch/s]\n",
      "Running Validation: 100%|██████████| 137/137 [00:20<00:00,  6.77batch/s]\n",
      "Running Test: 100%|██████████| 290/290 [00:20<00:00, 13.85batch/s]\n",
      "Epoch 24/60: 27464batch [08:41, 52.62batch/s]                          \n",
      "Running Validation: 100%|██████████| 137/137 [00:19<00:00,  6.93batch/s]\n",
      "Running Test: 100%|██████████| 290/290 [00:21<00:00, 13.60batch/s]\n",
      "Running Validation: 100%|██████████| 137/137 [00:20<00:00,  6.75batch/s]\n",
      "Running Test: 100%|██████████| 290/290 [00:20<00:00, 13.86batch/s]\n",
      "Epoch 25/60: 27464batch [08:40, 52.74batch/s]                          \n",
      "Running Validation: 100%|██████████| 137/137 [00:19<00:00,  6.86batch/s]\n",
      "Running Test: 100%|██████████| 290/290 [00:21<00:00, 13.78batch/s]\n",
      "Running Validation: 100%|██████████| 137/137 [00:20<00:00,  6.77batch/s]\n",
      "Running Test: 100%|██████████| 290/290 [00:21<00:00, 13.77batch/s]\n",
      "Epoch 26/60: 27464batch [08:40, 52.76batch/s]                          \n",
      "Running Validation: 100%|██████████| 137/137 [00:19<00:00,  6.88batch/s]\n",
      "Running Test: 100%|██████████| 290/290 [00:20<00:00, 13.86batch/s]\n",
      "Running Validation: 100%|██████████| 137/137 [00:20<00:00,  6.73batch/s]\n",
      "Running Test: 100%|██████████| 290/290 [00:21<00:00, 13.71batch/s]\n",
      "Epoch 27/60: 27464batch [08:40, 52.72batch/s]                          \n",
      "Running Validation: 100%|██████████| 137/137 [00:19<00:00,  6.86batch/s]\n",
      "Running Test: 100%|██████████| 290/290 [00:21<00:00, 13.73batch/s]\n",
      "Running Validation: 100%|██████████| 137/137 [00:20<00:00,  6.74batch/s]\n",
      "Running Test: 100%|██████████| 290/290 [00:20<00:00, 13.86batch/s]\n",
      "Epoch 28/60: 27464batch [08:40, 52.75batch/s]                          \n",
      "Running Validation: 100%|██████████| 137/137 [00:19<00:00,  6.88batch/s]\n",
      "Running Test: 100%|██████████| 290/290 [00:20<00:00, 13.94batch/s]\n",
      "Running Validation: 100%|██████████| 137/137 [00:20<00:00,  6.69batch/s]\n",
      "Running Test: 100%|██████████| 290/290 [00:20<00:00, 13.91batch/s]\n",
      "Epoch 29/60: 27464batch [08:43, 52.47batch/s]                          \n",
      "Running Validation: 100%|██████████| 137/137 [00:20<00:00,  6.70batch/s]\n",
      "Running Test: 100%|██████████| 290/290 [00:21<00:00, 13.58batch/s]\n",
      "Running Validation: 100%|██████████| 137/137 [00:21<00:00,  6.47batch/s]\n",
      "Running Test: 100%|██████████| 290/290 [00:22<00:00, 13.15batch/s]\n",
      "Epoch 30/60: 27464batch [09:12, 49.68batch/s]                          \n",
      "Running Validation: 100%|██████████| 137/137 [00:19<00:00,  6.88batch/s]\n",
      "Running Test: 100%|██████████| 290/290 [00:21<00:00, 13.58batch/s]\n",
      "Running Validation: 100%|██████████| 137/137 [00:19<00:00,  6.91batch/s]\n",
      "Running Test: 100%|██████████| 290/290 [00:21<00:00, 13.73batch/s]\n",
      "Epoch 31/60: 27464batch [08:39, 52.83batch/s]                          \n",
      "Running Validation: 100%|██████████| 137/137 [00:19<00:00,  6.92batch/s]\n",
      "Running Test: 100%|██████████| 290/290 [00:20<00:00, 13.89batch/s]\n",
      "Running Validation: 100%|██████████| 137/137 [00:19<00:00,  6.86batch/s]\n",
      "Running Test: 100%|██████████| 290/290 [00:21<00:00, 13.74batch/s]\n",
      "Epoch 32/60: 27464batch [09:02, 50.67batch/s]                          \n",
      "Running Validation: 100%|██████████| 137/137 [00:21<00:00,  6.36batch/s]\n",
      "Running Test: 100%|██████████| 290/290 [00:23<00:00, 12.39batch/s]\n",
      "Running Validation: 100%|██████████| 137/137 [00:21<00:00,  6.39batch/s]\n",
      "Running Test: 100%|██████████| 290/290 [00:23<00:00, 12.42batch/s]\n",
      "Epoch 33/60: 27464batch [10:07, 45.23batch/s]                          \n",
      "Running Validation: 100%|██████████| 137/137 [00:21<00:00,  6.39batch/s]\n",
      "Running Test: 100%|██████████| 290/290 [00:23<00:00, 12.32batch/s]\n",
      "Running Validation: 100%|██████████| 137/137 [00:22<00:00,  6.16batch/s]\n",
      "Running Test: 100%|██████████| 290/290 [00:22<00:00, 12.91batch/s]\n",
      "Epoch 34/60: 27464batch [10:16, 44.56batch/s]                          \n",
      "Running Validation: 100%|██████████| 137/137 [00:21<00:00,  6.35batch/s]\n",
      "Running Test: 100%|██████████| 290/290 [00:23<00:00, 12.09batch/s]\n",
      "Running Validation: 100%|██████████| 137/137 [00:22<00:00,  6.02batch/s]\n",
      "Running Test: 100%|██████████| 290/290 [00:23<00:00, 12.49batch/s]\n",
      "Epoch 35/60: 27464batch [11:12, 40.84batch/s]                          \n",
      "Running Validation: 100%|██████████| 137/137 [00:22<00:00,  6.13batch/s]\n",
      "Running Test: 100%|██████████| 290/290 [00:25<00:00, 11.59batch/s]\n",
      "Running Validation: 100%|██████████| 137/137 [00:23<00:00,  5.91batch/s]\n",
      "Running Test: 100%|██████████| 290/290 [00:23<00:00, 12.41batch/s]\n",
      "Epoch 36/60: 27464batch [11:39, 39.24batch/s]                          \n",
      "Running Validation: 100%|██████████| 137/137 [00:21<00:00,  6.32batch/s]\n",
      "Running Test: 100%|██████████| 290/290 [00:22<00:00, 12.94batch/s]\n",
      "Running Validation: 100%|██████████| 137/137 [00:19<00:00,  6.85batch/s]\n",
      "Running Test: 100%|██████████| 290/290 [00:21<00:00, 13.63batch/s]\n",
      "Epoch 37/60: 27464batch [08:49, 51.91batch/s]                          \n",
      "Running Validation: 100%|██████████| 137/137 [00:19<00:00,  7.06batch/s]\n",
      "Running Test: 100%|██████████| 290/290 [00:21<00:00, 13.71batch/s]\n",
      "Running Validation: 100%|██████████| 137/137 [00:19<00:00,  6.90batch/s]\n",
      "Running Test: 100%|██████████| 290/290 [00:21<00:00, 13.65batch/s]\n",
      "Epoch 38/60: 27464batch [08:40, 52.79batch/s]                          \n",
      "Running Validation: 100%|██████████| 137/137 [00:19<00:00,  6.98batch/s]\n",
      "Running Test: 100%|██████████| 290/290 [00:21<00:00, 13.60batch/s]\n",
      "Running Validation: 100%|██████████| 137/137 [00:19<00:00,  6.91batch/s]\n",
      "Running Test: 100%|██████████| 290/290 [00:21<00:00, 13.48batch/s]\n",
      "Epoch 39/60: 27464batch [08:41, 52.66batch/s]                          \n",
      "Running Validation: 100%|██████████| 137/137 [00:19<00:00,  7.08batch/s]\n",
      "Running Test: 100%|██████████| 290/290 [00:20<00:00, 13.81batch/s]\n",
      "Running Validation: 100%|██████████| 137/137 [00:19<00:00,  6.90batch/s]\n",
      "Running Test: 100%|██████████| 290/290 [00:21<00:00, 13.51batch/s]\n",
      "Epoch 40/60: 27464batch [08:40, 52.78batch/s]                          \n",
      "Running Validation: 100%|██████████| 137/137 [00:19<00:00,  6.99batch/s]\n",
      "Running Test: 100%|██████████| 290/290 [00:20<00:00, 13.81batch/s]\n",
      "Running Validation: 100%|██████████| 137/137 [00:19<00:00,  6.99batch/s]\n",
      "Running Test: 100%|██████████| 290/290 [00:21<00:00, 13.28batch/s]\n",
      "Epoch 41/60: 27464batch [08:40, 52.74batch/s]                          \n",
      "Running Validation: 100%|██████████| 137/137 [00:19<00:00,  7.08batch/s]\n",
      "Running Test: 100%|██████████| 290/290 [00:21<00:00, 13.54batch/s]\n",
      "Running Validation: 100%|██████████| 137/137 [00:19<00:00,  6.95batch/s]\n",
      "Running Test: 100%|██████████| 290/290 [00:21<00:00, 13.42batch/s]\n",
      "Epoch 42/60: 27464batch [08:40, 52.76batch/s]                          \n",
      "Running Validation: 100%|██████████| 137/137 [00:19<00:00,  7.04batch/s]\n",
      "Running Test: 100%|██████████| 290/290 [00:21<00:00, 13.60batch/s]\n",
      "Running Validation: 100%|██████████| 137/137 [00:19<00:00,  7.05batch/s]\n",
      "Running Test: 100%|██████████| 290/290 [00:21<00:00, 13.22batch/s]\n",
      "Epoch 43/60: 27464batch [08:40, 52.75batch/s]                          \n",
      "Running Validation: 100%|██████████| 137/137 [00:19<00:00,  7.11batch/s]\n",
      "Running Test: 100%|██████████| 290/290 [00:21<00:00, 13.47batch/s]\n",
      "Running Validation: 100%|██████████| 137/137 [00:19<00:00,  6.93batch/s]\n",
      "Running Test: 100%|██████████| 290/290 [00:21<00:00, 13.46batch/s]\n",
      "Epoch 44/60: 27464batch [08:40, 52.77batch/s]                          \n",
      "Running Validation: 100%|██████████| 137/137 [00:19<00:00,  7.08batch/s]\n",
      "Running Test: 100%|██████████| 290/290 [00:21<00:00, 13.32batch/s]\n",
      "Running Validation: 100%|██████████| 137/137 [00:20<00:00,  6.84batch/s]\n",
      "Running Test: 100%|██████████| 290/290 [00:21<00:00, 13.64batch/s]\n",
      "Epoch 45/60: 27464batch [08:40, 52.77batch/s]                          \n",
      "Running Validation: 100%|██████████| 137/137 [00:19<00:00,  7.11batch/s]\n",
      "Running Test: 100%|██████████| 290/290 [00:21<00:00, 13.75batch/s]\n",
      "Running Validation: 100%|██████████| 137/137 [00:19<00:00,  6.90batch/s]\n",
      "Running Test: 100%|██████████| 290/290 [00:21<00:00, 13.55batch/s]\n",
      "Epoch 46/60: 27464batch [08:40, 52.77batch/s]                          \n",
      "Running Validation: 100%|██████████| 137/137 [00:19<00:00,  7.02batch/s]\n",
      "Running Test: 100%|██████████| 290/290 [00:21<00:00, 13.51batch/s]\n",
      "Running Validation: 100%|██████████| 137/137 [00:20<00:00,  6.83batch/s]\n",
      "Running Test: 100%|██████████| 290/290 [00:21<00:00, 13.74batch/s]\n",
      "Epoch 47/60: 27464batch [08:40, 52.80batch/s]                          \n",
      "Running Validation: 100%|██████████| 137/137 [00:19<00:00,  7.04batch/s]\n",
      "Running Test: 100%|██████████| 290/290 [00:21<00:00, 13.69batch/s]\n",
      "Running Validation: 100%|██████████| 137/137 [00:20<00:00,  6.84batch/s]\n",
      "Running Test: 100%|██████████| 290/290 [00:21<00:00, 13.71batch/s]\n",
      "Epoch 48/60: 27464batch [08:40, 52.78batch/s]                          \n",
      "Running Validation: 100%|██████████| 137/137 [00:20<00:00,  6.81batch/s]\n",
      "Running Test: 100%|██████████| 290/290 [00:21<00:00, 13.71batch/s]\n",
      "Running Validation: 100%|██████████| 137/137 [00:19<00:00,  6.87batch/s]\n",
      "Running Test: 100%|██████████| 290/290 [00:21<00:00, 13.78batch/s]\n",
      "Epoch 49/60: 27464batch [08:40, 52.81batch/s]                          \n",
      "Running Validation: 100%|██████████| 137/137 [00:19<00:00,  6.95batch/s]\n",
      "Running Test: 100%|██████████| 290/290 [00:21<00:00, 13.74batch/s]\n",
      "Running Validation: 100%|██████████| 137/137 [00:19<00:00,  6.97batch/s]\n",
      "Running Test: 100%|██████████| 290/290 [00:26<00:00, 10.86batch/s]\n",
      "Epoch 50/60: 27464batch [08:47, 52.03batch/s]                          \n",
      "Running Validation: 100%|██████████| 137/137 [00:20<00:00,  6.70batch/s]\n",
      "Running Test: 100%|██████████| 290/290 [00:21<00:00, 13.31batch/s]\n",
      "Running Validation: 100%|██████████| 137/137 [00:20<00:00,  6.80batch/s]\n",
      "Running Test: 100%|██████████| 290/290 [00:22<00:00, 13.11batch/s]\n",
      "Epoch 51/60: 27464batch [08:42, 52.60batch/s]                          \n",
      "Running Validation: 100%|██████████| 137/137 [00:20<00:00,  6.82batch/s]\n",
      "Running Test: 100%|██████████| 290/290 [00:21<00:00, 13.23batch/s]\n",
      "Running Validation: 100%|██████████| 137/137 [00:20<00:00,  6.76batch/s]\n",
      "Running Test: 100%|██████████| 290/290 [00:22<00:00, 12.94batch/s]\n",
      "Epoch 52/60: 27464batch [08:42, 52.56batch/s]                          \n",
      "Running Validation: 100%|██████████| 137/137 [00:19<00:00,  6.91batch/s]\n",
      "Running Test: 100%|██████████| 290/290 [00:21<00:00, 13.28batch/s]\n",
      "Running Validation: 100%|██████████| 137/137 [00:20<00:00,  6.76batch/s]\n",
      "Running Test: 100%|██████████| 290/290 [00:21<00:00, 13.21batch/s]\n",
      "Epoch 53/60: 27464batch [08:42, 52.58batch/s]                          \n",
      "Running Validation: 100%|██████████| 137/137 [00:19<00:00,  6.88batch/s]\n",
      "Running Test: 100%|██████████| 290/290 [00:21<00:00, 13.35batch/s]\n",
      "Running Validation: 100%|██████████| 137/137 [00:20<00:00,  6.76batch/s]\n",
      "Running Test: 100%|██████████| 290/290 [00:22<00:00, 13.11batch/s]\n",
      "Epoch 54/60: 27464batch [08:42, 52.56batch/s]                          \n",
      "Running Validation: 100%|██████████| 137/137 [00:19<00:00,  6.91batch/s]\n",
      "Running Test: 100%|██████████| 290/290 [00:21<00:00, 13.33batch/s]\n",
      "Running Validation: 100%|██████████| 137/137 [00:20<00:00,  6.78batch/s]\n",
      "Running Test: 100%|██████████| 290/290 [00:21<00:00, 13.19batch/s]\n",
      "Epoch 55/60: 27464batch [08:42, 52.60batch/s]                          \n",
      "Running Validation: 100%|██████████| 137/137 [00:19<00:00,  6.92batch/s]\n",
      "Running Test: 100%|██████████| 290/290 [00:21<00:00, 13.38batch/s]\n",
      "Running Validation: 100%|██████████| 137/137 [00:19<00:00,  6.88batch/s]\n",
      "Running Test: 100%|██████████| 290/290 [00:21<00:00, 13.50batch/s]\n",
      "Epoch 56/60: 27464batch [08:40, 52.72batch/s]                          \n",
      "Running Validation: 100%|██████████| 137/137 [00:19<00:00,  6.92batch/s]\n",
      "Running Test: 100%|██████████| 290/290 [00:21<00:00, 13.42batch/s]\n",
      "Running Validation: 100%|██████████| 137/137 [00:20<00:00,  6.77batch/s]\n",
      "Running Test: 100%|██████████| 290/290 [00:21<00:00, 13.26batch/s]\n",
      "Epoch 57/60: 27464batch [08:41, 52.63batch/s]                          \n",
      "Running Validation: 100%|██████████| 137/137 [00:20<00:00,  6.79batch/s]\n",
      "Running Test: 100%|██████████| 290/290 [00:21<00:00, 13.32batch/s]\n",
      "Running Validation: 100%|██████████| 137/137 [00:20<00:00,  6.85batch/s]\n",
      "Running Test: 100%|██████████| 290/290 [00:21<00:00, 13.70batch/s]\n",
      "Epoch 58/60: 27464batch [08:40, 52.76batch/s]                          \n",
      "Running Validation: 100%|██████████| 137/137 [00:19<00:00,  7.01batch/s]\n",
      "Running Test: 100%|██████████| 290/290 [00:20<00:00, 13.84batch/s]\n",
      "Running Validation: 100%|██████████| 137/137 [00:19<00:00,  6.89batch/s]\n",
      "Running Test: 100%|██████████| 290/290 [00:21<00:00, 13.65batch/s]\n",
      "Epoch 59/60: 27464batch [08:40, 52.81batch/s]                          \n",
      "Running Validation: 100%|██████████| 137/137 [00:19<00:00,  6.94batch/s]\n",
      "Running Test: 100%|██████████| 290/290 [00:21<00:00, 13.66batch/s]\n",
      "Running Validation: 100%|██████████| 137/137 [00:19<00:00,  6.89batch/s]\n",
      "Running Test: 100%|██████████| 290/290 [00:21<00:00, 13.57batch/s]\n",
      "Epoch 60/60: 27464batch [08:39, 52.84batch/s]                          \n",
      "Running Validation: 100%|██████████| 137/137 [00:19<00:00,  7.08batch/s]\n",
      "Running Test: 100%|██████████| 290/290 [00:20<00:00, 13.89batch/s]\n"
     ]
    },
    {
     "data": {
      "text/plain": [
       "<gan.GANTrainer at 0x1a29dfcea60>"
      ]
     },
     "execution_count": 18,
     "metadata": {},
     "output_type": "execute_result"
    }
   ],
   "source": [
    "#CODE TO TRAIN SCENARIO 2\n",
    "myUNET2 = models.UNET()\n",
    "myDisc2 = models.Discriminator()\n",
    "args['save'] = 'C:/Users/Karol/Documents/DL4H/runs/full_nodark_60ep{}'.format(datetime.datetime.now().strftime('%Y-%m-%d_%H-%M-%S'))\n",
    "gan.run(args, myUNET2, myDisc2, train_data, val_data, test_data)\n"
   ]
  },
  {
   "attachments": {},
   "cell_type": "markdown",
   "metadata": {},
   "source": [
    "Run training, validation, and test for scenario 3. This is ablated u-net and dark channel."
   ]
  },
  {
   "cell_type": "code",
   "execution_count": null,
   "metadata": {},
   "outputs": [
    {
     "name": "stderr",
     "output_type": "stream",
     "text": [
      "Epoch 1/60:   3%|▎         | 808/27461 [00:50<08:59, 49.37batch/s] c:\\Users\\Karol\\.conda\\envs\\DL4H_CS598_2\\lib\\site-packages\\torch\\functional.py:504: UserWarning: torch.meshgrid: in an upcoming release, it will be required to pass the indexing argument. (Triggered internally at C:\\cb\\pytorch_1000000000000\\work\\aten\\src\\ATen\\native\\TensorShape.cpp:3484.)\n",
      "  return _VF.meshgrid(tensors, **kwargs)  # type: ignore[attr-defined]\n"
     ]
    },
    {
     "name": "stdout",
     "output_type": "stream",
     "text": [
      "torch.Size([3, 256, 256])\n",
      "torch.Size([3, 256, 256])\n"
     ]
    },
    {
     "name": "stderr",
     "output_type": "stream",
     "text": []
    },
    {
     "name": "stdout",
     "output_type": "stream",
     "text": [
      "torch.Size([3, 256, 256])\n"
     ]
    },
    {
     "name": "stderr",
     "output_type": "stream",
     "text": []
    },
    {
     "name": "stdout",
     "output_type": "stream",
     "text": [
      "torch.Size([3, 256, 256])\n"
     ]
    },
    {
     "name": "stderr",
     "output_type": "stream",
     "text": []
    },
    {
     "name": "stdout",
     "output_type": "stream",
     "text": [
      "torch.Size([3, 256, 256])\n"
     ]
    },
    {
     "name": "stderr",
     "output_type": "stream",
     "text": []
    },
    {
     "name": "stdout",
     "output_type": "stream",
     "text": [
      "torch.Size([3, 256, 256])\n"
     ]
    },
    {
     "name": "stderr",
     "output_type": "stream",
     "text": [
      "Running Validation: 100%|██████████| 137/137 [00:21<00:00,  6.24batch/s]\n"
     ]
    },
    {
     "name": "stdout",
     "output_type": "stream",
     "text": [
      "torch.Size([3, 256, 256])\n",
      "torch.Size([3, 256, 256])\n"
     ]
    },
    {
     "name": "stderr",
     "output_type": "stream",
     "text": []
    },
    {
     "name": "stdout",
     "output_type": "stream",
     "text": [
      "torch.Size([3, 256, 256])\n"
     ]
    },
    {
     "name": "stderr",
     "output_type": "stream",
     "text": []
    },
    {
     "name": "stdout",
     "output_type": "stream",
     "text": [
      "torch.Size([3, 256, 256])\n"
     ]
    },
    {
     "name": "stderr",
     "output_type": "stream",
     "text": []
    },
    {
     "name": "stdout",
     "output_type": "stream",
     "text": [
      "torch.Size([3, 256, 256])\n"
     ]
    },
    {
     "name": "stderr",
     "output_type": "stream",
     "text": []
    },
    {
     "name": "stdout",
     "output_type": "stream",
     "text": [
      "torch.Size([3, 256, 256])\n"
     ]
    },
    {
     "name": "stderr",
     "output_type": "stream",
     "text": [
      "Running Test: 100%|██████████| 290/290 [00:24<00:00, 11.88batch/s]\n",
      "Epoch 1/60:   6%|▌         | 1608/27461 [01:42<08:33, 50.36batch/s]  "
     ]
    },
    {
     "name": "stdout",
     "output_type": "stream",
     "text": [
      "torch.Size([3, 256, 256])\n",
      "torch.Size([3, 256, 256])\n"
     ]
    },
    {
     "name": "stderr",
     "output_type": "stream",
     "text": [
      "\n"
     ]
    },
    {
     "name": "stdout",
     "output_type": "stream",
     "text": [
      "torch.Size([3, 256, 256])\n"
     ]
    },
    {
     "name": "stderr",
     "output_type": "stream",
     "text": [
      "Epoch 1/60:   6%|▌         | 1608/27461 [02:00<08:33, 50.36batch/s]h/s]\u001b[A"
     ]
    },
    {
     "name": "stdout",
     "output_type": "stream",
     "text": [
      "torch.Size([3, 256, 256])\n"
     ]
    },
    {
     "name": "stderr",
     "output_type": "stream",
     "text": []
    },
    {
     "name": "stdout",
     "output_type": "stream",
     "text": [
      "torch.Size([3, 256, 256])\n"
     ]
    },
    {
     "name": "stderr",
     "output_type": "stream",
     "text": [
      "\n"
     ]
    },
    {
     "name": "stdout",
     "output_type": "stream",
     "text": [
      "torch.Size([3, 256, 256])\n"
     ]
    },
    {
     "name": "stderr",
     "output_type": "stream",
     "text": [
      "Running Validation: 100%|██████████| 137/137 [00:21<00:00,  6.41batch/s]\u001b[A\n"
     ]
    },
    {
     "name": "stdout",
     "output_type": "stream",
     "text": [
      "torch.Size([3, 256, 256])\n",
      "torch.Size([3, 256, 256])\n"
     ]
    },
    {
     "name": "stderr",
     "output_type": "stream",
     "text": [
      "\n"
     ]
    },
    {
     "name": "stdout",
     "output_type": "stream",
     "text": [
      "torch.Size([3, 256, 256])\n"
     ]
    },
    {
     "name": "stderr",
     "output_type": "stream",
     "text": [
      "Running Test:  23%|██▎       | 66/290 [00:16<00:08, 27.35batch/s]\u001b[A"
     ]
    },
    {
     "name": "stdout",
     "output_type": "stream",
     "text": [
      "torch.Size([3, 256, 256])\n"
     ]
    },
    {
     "name": "stderr",
     "output_type": "stream",
     "text": [
      "\n"
     ]
    },
    {
     "name": "stdout",
     "output_type": "stream",
     "text": [
      "torch.Size([3, 256, 256])\n"
     ]
    },
    {
     "name": "stderr",
     "output_type": "stream",
     "text": [
      "Running Test:  63%|██████▎   | 182/290 [00:19<00:03, 31.88batch/s]\u001b[A"
     ]
    },
    {
     "name": "stdout",
     "output_type": "stream",
     "text": [
      "torch.Size([3, 256, 256])\n"
     ]
    },
    {
     "name": "stderr",
     "output_type": "stream",
     "text": [
      "Running Test: 100%|██████████| 290/290 [00:23<00:00, 12.23batch/s]\n",
      "Epoch 1/60:   9%|▉         | 2408/27461 [03:00<08:16, 50.51batch/s]   "
     ]
    },
    {
     "name": "stdout",
     "output_type": "stream",
     "text": [
      "torch.Size([3, 256, 256])\n",
      "torch.Size([3, 256, 256])\n"
     ]
    },
    {
     "name": "stderr",
     "output_type": "stream",
     "text": []
    },
    {
     "name": "stdout",
     "output_type": "stream",
     "text": [
      "torch.Size([3, 256, 256])\n"
     ]
    },
    {
     "name": "stderr",
     "output_type": "stream",
     "text": []
    },
    {
     "name": "stdout",
     "output_type": "stream",
     "text": [
      "torch.Size([3, 256, 256])\n"
     ]
    },
    {
     "name": "stderr",
     "output_type": "stream",
     "text": [
      "\n"
     ]
    },
    {
     "name": "stdout",
     "output_type": "stream",
     "text": [
      "torch.Size([3, 256, 256])\n"
     ]
    },
    {
     "name": "stderr",
     "output_type": "stream",
     "text": [
      "Running Validation:  65%|██████▍   | 89/137 [00:18<00:01, 29.22batch/s]\u001b[A\n"
     ]
    },
    {
     "name": "stdout",
     "output_type": "stream",
     "text": [
      "torch.Size([3, 256, 256])\n"
     ]
    },
    {
     "name": "stderr",
     "output_type": "stream",
     "text": [
      "Running Validation: 100%|██████████| 137/137 [00:21<00:00,  6.48batch/s]\u001b[A\n"
     ]
    },
    {
     "name": "stdout",
     "output_type": "stream",
     "text": [
      "torch.Size([3, 256, 256])\n",
      "torch.Size([3, 256, 256])\n"
     ]
    },
    {
     "name": "stderr",
     "output_type": "stream",
     "text": [
      "\n"
     ]
    },
    {
     "name": "stdout",
     "output_type": "stream",
     "text": [
      "torch.Size([3, 256, 256])\n"
     ]
    },
    {
     "name": "stderr",
     "output_type": "stream",
     "text": [
      "Running Test:  23%|██▎       | 66/290 [00:15<00:07, 28.37batch/s]\u001b[A"
     ]
    },
    {
     "name": "stdout",
     "output_type": "stream",
     "text": [
      "torch.Size([3, 256, 256])\n"
     ]
    },
    {
     "name": "stderr",
     "output_type": "stream",
     "text": []
    },
    {
     "name": "stdout",
     "output_type": "stream",
     "text": [
      "torch.Size([3, 256, 256])\n"
     ]
    },
    {
     "name": "stderr",
     "output_type": "stream",
     "text": [
      "\n"
     ]
    },
    {
     "name": "stdout",
     "output_type": "stream",
     "text": [
      "torch.Size([3, 256, 256])\n"
     ]
    },
    {
     "name": "stderr",
     "output_type": "stream",
     "text": [
      "Running Test: 100%|██████████| 290/290 [00:23<00:00, 12.12batch/s]\u001b[A\n",
      "Epoch 1/60:  12%|█▏        | 3208/27461 [04:00<08:01, 50.35batch/s]   "
     ]
    },
    {
     "name": "stdout",
     "output_type": "stream",
     "text": [
      "torch.Size([3, 256, 256])\n",
      "torch.Size([3, 256, 256])\n"
     ]
    },
    {
     "name": "stderr",
     "output_type": "stream",
     "text": []
    },
    {
     "name": "stdout",
     "output_type": "stream",
     "text": [
      "torch.Size([3, 256, 256])\n"
     ]
    },
    {
     "name": "stderr",
     "output_type": "stream",
     "text": []
    },
    {
     "name": "stdout",
     "output_type": "stream",
     "text": [
      "torch.Size([3, 256, 256])\n"
     ]
    },
    {
     "name": "stderr",
     "output_type": "stream",
     "text": [
      "\n"
     ]
    },
    {
     "name": "stdout",
     "output_type": "stream",
     "text": [
      "torch.Size([3, 256, 256])\n"
     ]
    },
    {
     "name": "stderr",
     "output_type": "stream",
     "text": [
      "Running Validation:  66%|██████▌   | 90/137 [00:19<00:01, 30.04batch/s]\u001b[A"
     ]
    },
    {
     "name": "stdout",
     "output_type": "stream",
     "text": [
      "torch.Size([3, 256, 256])\n"
     ]
    },
    {
     "name": "stderr",
     "output_type": "stream",
     "text": [
      "Running Validation: 100%|██████████| 137/137 [00:21<00:00,  6.43batch/s]\n"
     ]
    },
    {
     "name": "stdout",
     "output_type": "stream",
     "text": [
      "torch.Size([3, 256, 256])\n",
      "torch.Size([3, 256, 256])\n"
     ]
    },
    {
     "name": "stderr",
     "output_type": "stream",
     "text": []
    },
    {
     "name": "stdout",
     "output_type": "stream",
     "text": [
      "torch.Size([3, 256, 256])\n"
     ]
    },
    {
     "name": "stderr",
     "output_type": "stream",
     "text": []
    },
    {
     "name": "stdout",
     "output_type": "stream",
     "text": [
      "torch.Size([3, 256, 256])\n"
     ]
    },
    {
     "name": "stderr",
     "output_type": "stream",
     "text": []
    },
    {
     "name": "stdout",
     "output_type": "stream",
     "text": [
      "torch.Size([3, 256, 256])\n"
     ]
    },
    {
     "name": "stderr",
     "output_type": "stream",
     "text": []
    },
    {
     "name": "stdout",
     "output_type": "stream",
     "text": [
      "torch.Size([3, 256, 256])\n"
     ]
    },
    {
     "name": "stderr",
     "output_type": "stream",
     "text": [
      "Running Test: 100%|██████████| 290/290 [00:23<00:00, 12.48batch/s]\n",
      "Epoch 1/60:  15%|█▍        | 4008/27461 [05:00<07:47, 50.18batch/s]   "
     ]
    },
    {
     "name": "stdout",
     "output_type": "stream",
     "text": [
      "torch.Size([3, 256, 256])\n",
      "torch.Size([3, 256, 256])\n"
     ]
    },
    {
     "name": "stderr",
     "output_type": "stream",
     "text": [
      "\n"
     ]
    },
    {
     "name": "stdout",
     "output_type": "stream",
     "text": [
      "torch.Size([3, 256, 256])\n"
     ]
    },
    {
     "name": "stderr",
     "output_type": "stream",
     "text": [
      "Running Validation:  26%|██▌       | 35/137 [00:16<00:08, 12.10batch/s]\u001b[A"
     ]
    },
    {
     "name": "stdout",
     "output_type": "stream",
     "text": [
      "torch.Size([3, 256, 256])\n"
     ]
    },
    {
     "name": "stderr",
     "output_type": "stream",
     "text": []
    },
    {
     "name": "stdout",
     "output_type": "stream",
     "text": [
      "torch.Size([3, 256, 256])\n"
     ]
    },
    {
     "name": "stderr",
     "output_type": "stream",
     "text": []
    },
    {
     "name": "stdout",
     "output_type": "stream",
     "text": [
      "torch.Size([3, 256, 256])\n"
     ]
    },
    {
     "name": "stderr",
     "output_type": "stream",
     "text": [
      "Running Validation: 100%|██████████| 137/137 [00:21<00:00,  6.39batch/s]\n"
     ]
    },
    {
     "name": "stdout",
     "output_type": "stream",
     "text": [
      "torch.Size([3, 256, 256])\n",
      "torch.Size([3, 256, 256])\n"
     ]
    },
    {
     "name": "stderr",
     "output_type": "stream",
     "text": []
    },
    {
     "name": "stdout",
     "output_type": "stream",
     "text": [
      "torch.Size([3, 256, 256])\n"
     ]
    },
    {
     "name": "stderr",
     "output_type": "stream",
     "text": []
    },
    {
     "name": "stdout",
     "output_type": "stream",
     "text": [
      "torch.Size([3, 256, 256])\n"
     ]
    },
    {
     "name": "stderr",
     "output_type": "stream",
     "text": []
    },
    {
     "name": "stdout",
     "output_type": "stream",
     "text": [
      "torch.Size([3, 256, 256])\n"
     ]
    },
    {
     "name": "stderr",
     "output_type": "stream",
     "text": [
      "\n"
     ]
    },
    {
     "name": "stdout",
     "output_type": "stream",
     "text": [
      "torch.Size([3, 256, 256])\n"
     ]
    },
    {
     "name": "stderr",
     "output_type": "stream",
     "text": [
      "Running Test: 100%|██████████| 290/290 [00:23<00:00, 12.25batch/s]\u001b[A\n",
      "Epoch 1/60:  18%|█▊        | 4808/27461 [05:53<07:38, 49.45batch/s]   "
     ]
    },
    {
     "name": "stdout",
     "output_type": "stream",
     "text": [
      "torch.Size([3, 256, 256])\n",
      "torch.Size([3, 256, 256])\n"
     ]
    },
    {
     "name": "stderr",
     "output_type": "stream",
     "text": []
    },
    {
     "name": "stdout",
     "output_type": "stream",
     "text": [
      "torch.Size([3, 256, 256])\n"
     ]
    },
    {
     "name": "stderr",
     "output_type": "stream",
     "text": [
      "Epoch 1/60:  18%|█▊        | 4808/27461 [06:10<07:38, 49.45batch/s]"
     ]
    },
    {
     "name": "stdout",
     "output_type": "stream",
     "text": [
      "torch.Size([3, 256, 256])\n"
     ]
    },
    {
     "name": "stderr",
     "output_type": "stream",
     "text": [
      "\n"
     ]
    },
    {
     "name": "stdout",
     "output_type": "stream",
     "text": [
      "torch.Size([3, 256, 256])\n"
     ]
    },
    {
     "name": "stderr",
     "output_type": "stream",
     "text": [
      "Running Validation:  65%|██████▍   | 89/137 [00:18<00:01, 29.26batch/s]\u001b[A"
     ]
    },
    {
     "name": "stdout",
     "output_type": "stream",
     "text": [
      "torch.Size([3, 256, 256])\n"
     ]
    },
    {
     "name": "stderr",
     "output_type": "stream",
     "text": [
      "Running Validation: 100%|██████████| 137/137 [00:20<00:00,  6.65batch/s]\n",
      "Running Test:   0%|          | 0/290 [00:09<?, ?batch/s]\n",
      "Epoch 1/60:  18%|█▊        | 4808/27461 [06:25<30:17, 12.46batch/s]\n"
     ]
    },
    {
     "ename": "AttributeError",
     "evalue": "'tuple' object has no attribute 'tb_frame'",
     "output_type": "error",
     "traceback": [
      "\u001b[1;31m---------------------------------------------------------------------------\u001b[0m",
      "\u001b[1;31mKeyboardInterrupt\u001b[0m                         Traceback (most recent call last)",
      "File \u001b[1;32mc:\\Users\\Karol\\Documents\\DL4H\\DL4H-Desmoking-Laparoscopy-Surgery-Images\\src\\data_augmentation\\Trainer.py:81\u001b[0m, in \u001b[0;36mTrainer.train\u001b[1;34m(self, net, train_set, validation_set, test_set, *args, **kwargs)\u001b[0m\n\u001b[0;32m     80\u001b[0m \u001b[39mself\u001b[39m\u001b[39m.\u001b[39mvalidation(net, validation_set, \u001b[39m*\u001b[39margs, \u001b[39m*\u001b[39m\u001b[39m*\u001b[39mkwargs)\n\u001b[1;32m---> 81\u001b[0m \u001b[39mself\u001b[39m\u001b[39m.\u001b[39mtest(net, test_set, \u001b[39m*\u001b[39margs, \u001b[39m*\u001b[39m\u001b[39m*\u001b[39mkwargs)\n\u001b[0;32m     82\u001b[0m net\u001b[39m.\u001b[39mtrain()\n",
      "File \u001b[1;32mc:\\Users\\Karol\\Documents\\DL4H\\DL4H-Desmoking-Laparoscopy-Surgery-Images\\src\\SynthTrainer.py:184\u001b[0m, in \u001b[0;36mSynthTrainer.test\u001b[1;34m(self, net, test_set, *args, **kwargs)\u001b[0m\n\u001b[0;32m    182\u001b[0m \u001b[39mself\u001b[39m\u001b[39m.\u001b[39mtest_indices_to_show \u001b[39m=\u001b[39m np\u001b[39m.\u001b[39mlinspace(\u001b[39m0\u001b[39m, \u001b[39mlen\u001b[39m(test_set), \u001b[39m5\u001b[39m, endpoint\u001b[39m=\u001b[39m\u001b[39mFalse\u001b[39;00m)\u001b[39m.\u001b[39mastype(\u001b[39mint\u001b[39m)  \u001b[39m# type: ignore\u001b[39;00m\n\u001b[1;32m--> 184\u001b[0m \u001b[39msuper\u001b[39m()\u001b[39m.\u001b[39mtest(net, test_set, \u001b[39m*\u001b[39margs, \u001b[39m*\u001b[39m\u001b[39m*\u001b[39mkwargs)\n\u001b[0;32m    186\u001b[0m \u001b[39m# Save current epoch\u001b[39;00m\n",
      "File \u001b[1;32mc:\\Users\\Karol\\.conda\\envs\\DL4H_CS598_2\\lib\\site-packages\\torch\\utils\\_contextlib.py:115\u001b[0m, in \u001b[0;36mcontext_decorator.<locals>.decorate_context\u001b[1;34m(*args, **kwargs)\u001b[0m\n\u001b[0;32m    114\u001b[0m \u001b[39mwith\u001b[39;00m ctx_factory():\n\u001b[1;32m--> 115\u001b[0m     \u001b[39mreturn\u001b[39;00m func(\u001b[39m*\u001b[39margs, \u001b[39m*\u001b[39m\u001b[39m*\u001b[39mkwargs)\n",
      "File \u001b[1;32mc:\\Users\\Karol\\Documents\\DL4H\\DL4H-Desmoking-Laparoscopy-Surgery-Images\\src\\data_augmentation\\Trainer.py:134\u001b[0m, in \u001b[0;36mTrainer.test\u001b[1;34m(self, net, test_set, *args, **kwargs)\u001b[0m\n\u001b[0;32m    133\u001b[0m \u001b[39mwith\u001b[39;00m tqdm(total\u001b[39m=\u001b[39m\u001b[39mlen\u001b[39m(\u001b[39mself\u001b[39m\u001b[39m.\u001b[39mtest_loader), desc\u001b[39m=\u001b[39m\u001b[39m'\u001b[39m\u001b[39mRunning Test\u001b[39m\u001b[39m'\u001b[39m, unit\u001b[39m=\u001b[39m\u001b[39m'\u001b[39m\u001b[39mbatch\u001b[39m\u001b[39m'\u001b[39m) \u001b[39mas\u001b[39;00m pbar:\n\u001b[1;32m--> 134\u001b[0m     \u001b[39mfor\u001b[39;00m itx_test, dataset_tuple \u001b[39min\u001b[39;00m \u001b[39menumerate\u001b[39;49m(\u001b[39mself\u001b[39;49m\u001b[39m.\u001b[39;49mtest_loader):\n\u001b[0;32m    135\u001b[0m         \u001b[39m# Run validation iteration\u001b[39;00m\n\u001b[0;32m    136\u001b[0m         \u001b[39mself\u001b[39m\u001b[39m.\u001b[39mtestIteration(net, dataset_tuple, \u001b[39m*\u001b[39margs, \u001b[39m*\u001b[39m\u001b[39m*\u001b[39mkwargs)\n",
      "File \u001b[1;32mc:\\Users\\Karol\\.conda\\envs\\DL4H_CS598_2\\lib\\site-packages\\torch\\utils\\data\\dataloader.py:442\u001b[0m, in \u001b[0;36mDataLoader.__iter__\u001b[1;34m(self)\u001b[0m\n\u001b[0;32m    441\u001b[0m \u001b[39melse\u001b[39;00m:\n\u001b[1;32m--> 442\u001b[0m     \u001b[39mreturn\u001b[39;00m \u001b[39mself\u001b[39;49m\u001b[39m.\u001b[39;49m_get_iterator()\n",
      "File \u001b[1;32mc:\\Users\\Karol\\.conda\\envs\\DL4H_CS598_2\\lib\\site-packages\\torch\\utils\\data\\dataloader.py:388\u001b[0m, in \u001b[0;36mDataLoader._get_iterator\u001b[1;34m(self)\u001b[0m\n\u001b[0;32m    387\u001b[0m \u001b[39mself\u001b[39m\u001b[39m.\u001b[39mcheck_worker_number_rationality()\n\u001b[1;32m--> 388\u001b[0m \u001b[39mreturn\u001b[39;00m _MultiProcessingDataLoaderIter(\u001b[39mself\u001b[39;49m)\n",
      "File \u001b[1;32mc:\\Users\\Karol\\.conda\\envs\\DL4H_CS598_2\\lib\\site-packages\\torch\\utils\\data\\dataloader.py:1043\u001b[0m, in \u001b[0;36m_MultiProcessingDataLoaderIter.__init__\u001b[1;34m(self, loader)\u001b[0m\n\u001b[0;32m   1037\u001b[0m \u001b[39m# NB: Process.start() actually take some time as it needs to\u001b[39;00m\n\u001b[0;32m   1038\u001b[0m \u001b[39m#     start a process and pass the arguments over via a pipe.\u001b[39;00m\n\u001b[0;32m   1039\u001b[0m \u001b[39m#     Therefore, we only add a worker to self._workers list after\u001b[39;00m\n\u001b[0;32m   1040\u001b[0m \u001b[39m#     it started, so that we do not call .join() if program dies\u001b[39;00m\n\u001b[0;32m   1041\u001b[0m \u001b[39m#     before it starts, and __del__ tries to join but will get:\u001b[39;00m\n\u001b[0;32m   1042\u001b[0m \u001b[39m#     AssertionError: can only join a started process.\u001b[39;00m\n\u001b[1;32m-> 1043\u001b[0m w\u001b[39m.\u001b[39;49mstart()\n\u001b[0;32m   1044\u001b[0m \u001b[39mself\u001b[39m\u001b[39m.\u001b[39m_index_queues\u001b[39m.\u001b[39mappend(index_queue)\n",
      "File \u001b[1;32mc:\\Users\\Karol\\.conda\\envs\\DL4H_CS598_2\\lib\\multiprocessing\\process.py:121\u001b[0m, in \u001b[0;36mBaseProcess.start\u001b[1;34m(self)\u001b[0m\n\u001b[0;32m    120\u001b[0m _cleanup()\n\u001b[1;32m--> 121\u001b[0m \u001b[39mself\u001b[39m\u001b[39m.\u001b[39m_popen \u001b[39m=\u001b[39m \u001b[39mself\u001b[39;49m\u001b[39m.\u001b[39;49m_Popen(\u001b[39mself\u001b[39;49m)\n\u001b[0;32m    122\u001b[0m \u001b[39mself\u001b[39m\u001b[39m.\u001b[39m_sentinel \u001b[39m=\u001b[39m \u001b[39mself\u001b[39m\u001b[39m.\u001b[39m_popen\u001b[39m.\u001b[39msentinel\n",
      "File \u001b[1;32mc:\\Users\\Karol\\.conda\\envs\\DL4H_CS598_2\\lib\\multiprocessing\\context.py:224\u001b[0m, in \u001b[0;36mProcess._Popen\u001b[1;34m(process_obj)\u001b[0m\n\u001b[0;32m    222\u001b[0m \u001b[39m@staticmethod\u001b[39m\n\u001b[0;32m    223\u001b[0m \u001b[39mdef\u001b[39;00m \u001b[39m_Popen\u001b[39m(process_obj):\n\u001b[1;32m--> 224\u001b[0m     \u001b[39mreturn\u001b[39;00m _default_context\u001b[39m.\u001b[39;49mget_context()\u001b[39m.\u001b[39;49mProcess\u001b[39m.\u001b[39;49m_Popen(process_obj)\n",
      "File \u001b[1;32mc:\\Users\\Karol\\.conda\\envs\\DL4H_CS598_2\\lib\\multiprocessing\\context.py:327\u001b[0m, in \u001b[0;36mSpawnProcess._Popen\u001b[1;34m(process_obj)\u001b[0m\n\u001b[0;32m    326\u001b[0m \u001b[39mfrom\u001b[39;00m \u001b[39m.\u001b[39;00m\u001b[39mpopen_spawn_win32\u001b[39;00m \u001b[39mimport\u001b[39;00m Popen\n\u001b[1;32m--> 327\u001b[0m \u001b[39mreturn\u001b[39;00m Popen(process_obj)\n",
      "File \u001b[1;32mc:\\Users\\Karol\\.conda\\envs\\DL4H_CS598_2\\lib\\multiprocessing\\popen_spawn_win32.py:93\u001b[0m, in \u001b[0;36mPopen.__init__\u001b[1;34m(self, process_obj)\u001b[0m\n\u001b[0;32m     92\u001b[0m     reduction\u001b[39m.\u001b[39mdump(prep_data, to_child)\n\u001b[1;32m---> 93\u001b[0m     reduction\u001b[39m.\u001b[39;49mdump(process_obj, to_child)\n\u001b[0;32m     94\u001b[0m \u001b[39mfinally\u001b[39;00m:\n",
      "File \u001b[1;32mc:\\Users\\Karol\\.conda\\envs\\DL4H_CS598_2\\lib\\multiprocessing\\reduction.py:60\u001b[0m, in \u001b[0;36mdump\u001b[1;34m(obj, file, protocol)\u001b[0m\n\u001b[0;32m     59\u001b[0m \u001b[39m\u001b[39m\u001b[39m'''Replacement for pickle.dump() using ForkingPickler.'''\u001b[39;00m\n\u001b[1;32m---> 60\u001b[0m ForkingPickler(file, protocol)\u001b[39m.\u001b[39;49mdump(obj)\n",
      "\u001b[1;31mKeyboardInterrupt\u001b[0m: ",
      "\nDuring handling of the above exception, another exception occurred:\n",
      "\u001b[1;31mSystemExit\u001b[0m                                Traceback (most recent call last)",
      "    \u001b[1;31m[... skipping hidden 1 frame]\u001b[0m\n",
      "Cell \u001b[1;32mIn[9], line 6\u001b[0m\n\u001b[0;32m      5\u001b[0m args[\u001b[39m'\u001b[39m\u001b[39muse_dark_channel\u001b[39m\u001b[39m'\u001b[39m] \u001b[39m=\u001b[39m \u001b[39mTrue\u001b[39;00m\n\u001b[1;32m----> 6\u001b[0m gan\u001b[39m.\u001b[39;49mrun(args, myUNET3, myDisc3, train_data, val_data, test_data)\n",
      "File \u001b[1;32mc:\\Users\\Karol\\Documents\\DL4H\\DL4H-Desmoking-Laparoscopy-Surgery-Images\\src\\gan.py:153\u001b[0m, in \u001b[0;36mrun\u001b[1;34m(args, UNET, discriminator, train_dataset, val_dataset, test_dataset)\u001b[0m\n\u001b[0;32m    142\u001b[0m trainer \u001b[39m=\u001b[39m GANTrainer(device \u001b[39m=\u001b[39m device, \n\u001b[0;32m    143\u001b[0m                       training_criterion \u001b[39m=\u001b[39m training_criterion, \n\u001b[0;32m    144\u001b[0m                       writer \u001b[39m=\u001b[39m writer, \n\u001b[1;32m   (...)\u001b[0m\n\u001b[0;32m    150\u001b[0m                        run_val_and_test_every_steps \u001b[39m=\u001b[39m args[\u001b[39m'\u001b[39m\u001b[39mrun_val_and_test_every_steps\u001b[39m\u001b[39m'\u001b[39m]\n\u001b[0;32m    151\u001b[0m                       )\n\u001b[1;32m--> 153\u001b[0m trainer\u001b[39m.\u001b[39;49mtrain(UNET, train_dataset, val_dataset, test_dataset, net_d \u001b[39m=\u001b[39;49m discriminator)\n\u001b[0;32m    155\u001b[0m \u001b[39mreturn\u001b[39;00m trainer\n",
      "File \u001b[1;32mc:\\Users\\Karol\\Documents\\DL4H\\DL4H-Desmoking-Laparoscopy-Surgery-Images\\src\\data_augmentation\\Trainer.py:94\u001b[0m, in \u001b[0;36mTrainer.train\u001b[1;34m(self, net, train_set, validation_set, test_set, *args, **kwargs)\u001b[0m\n\u001b[0;32m     93\u001b[0m logging\u001b[39m.\u001b[39minfo(\u001b[39m'\u001b[39m\u001b[39mSaved interrupt\u001b[39m\u001b[39m'\u001b[39m)\n\u001b[1;32m---> 94\u001b[0m sys\u001b[39m.\u001b[39;49mexit(\u001b[39m0\u001b[39;49m)\n",
      "\u001b[1;31mSystemExit\u001b[0m: 0",
      "\nDuring handling of the above exception, another exception occurred:\n",
      "\u001b[1;31mAttributeError\u001b[0m                            Traceback (most recent call last)",
      "    \u001b[1;31m[... skipping hidden 1 frame]\u001b[0m\n",
      "File \u001b[1;32mc:\\Users\\Karol\\.conda\\envs\\DL4H_CS598_2\\lib\\site-packages\\IPython\\core\\interactiveshell.py:2092\u001b[0m, in \u001b[0;36mInteractiveShell.showtraceback\u001b[1;34m(self, exc_tuple, filename, tb_offset, exception_only, running_compiled_code)\u001b[0m\n\u001b[0;32m   2089\u001b[0m \u001b[39mif\u001b[39;00m exception_only:\n\u001b[0;32m   2090\u001b[0m     stb \u001b[39m=\u001b[39m [\u001b[39m'\u001b[39m\u001b[39mAn exception has occurred, use \u001b[39m\u001b[39m%\u001b[39m\u001b[39mtb to see \u001b[39m\u001b[39m'\u001b[39m\n\u001b[0;32m   2091\u001b[0m            \u001b[39m'\u001b[39m\u001b[39mthe full traceback.\u001b[39m\u001b[39m\\n\u001b[39;00m\u001b[39m'\u001b[39m]\n\u001b[1;32m-> 2092\u001b[0m     stb\u001b[39m.\u001b[39mextend(\u001b[39mself\u001b[39;49m\u001b[39m.\u001b[39;49mInteractiveTB\u001b[39m.\u001b[39;49mget_exception_only(etype,\n\u001b[0;32m   2093\u001b[0m                                                      value))\n\u001b[0;32m   2094\u001b[0m \u001b[39melse\u001b[39;00m:\n\u001b[0;32m   2095\u001b[0m     \u001b[39mtry\u001b[39;00m:\n\u001b[0;32m   2096\u001b[0m         \u001b[39m# Exception classes can customise their traceback - we\u001b[39;00m\n\u001b[0;32m   2097\u001b[0m         \u001b[39m# use this in IPython.parallel for exceptions occurring\u001b[39;00m\n\u001b[0;32m   2098\u001b[0m         \u001b[39m# in the engines. This should return a list of strings.\u001b[39;00m\n",
      "File \u001b[1;32mc:\\Users\\Karol\\.conda\\envs\\DL4H_CS598_2\\lib\\site-packages\\IPython\\core\\ultratb.py:644\u001b[0m, in \u001b[0;36mListTB.get_exception_only\u001b[1;34m(self, etype, value)\u001b[0m\n\u001b[0;32m    636\u001b[0m \u001b[39mdef\u001b[39;00m \u001b[39mget_exception_only\u001b[39m(\u001b[39mself\u001b[39m, etype, value):\n\u001b[0;32m    637\u001b[0m \u001b[39m    \u001b[39m\u001b[39m\"\"\"Only print the exception type and message, without a traceback.\u001b[39;00m\n\u001b[0;32m    638\u001b[0m \n\u001b[0;32m    639\u001b[0m \u001b[39m    Parameters\u001b[39;00m\n\u001b[1;32m   (...)\u001b[0m\n\u001b[0;32m    642\u001b[0m \u001b[39m    value : exception value\u001b[39;00m\n\u001b[0;32m    643\u001b[0m \u001b[39m    \"\"\"\u001b[39;00m\n\u001b[1;32m--> 644\u001b[0m     \u001b[39mreturn\u001b[39;00m ListTB\u001b[39m.\u001b[39;49mstructured_traceback(\u001b[39mself\u001b[39;49m, etype, value)\n",
      "File \u001b[1;32mc:\\Users\\Karol\\.conda\\envs\\DL4H_CS598_2\\lib\\site-packages\\IPython\\core\\ultratb.py:511\u001b[0m, in \u001b[0;36mListTB.structured_traceback\u001b[1;34m(self, etype, evalue, etb, tb_offset, context)\u001b[0m\n\u001b[0;32m    508\u001b[0m     chained_exc_ids\u001b[39m.\u001b[39madd(\u001b[39mid\u001b[39m(exception[\u001b[39m1\u001b[39m]))\n\u001b[0;32m    509\u001b[0m     chained_exceptions_tb_offset \u001b[39m=\u001b[39m \u001b[39m0\u001b[39m\n\u001b[0;32m    510\u001b[0m     out_list \u001b[39m=\u001b[39m (\n\u001b[1;32m--> 511\u001b[0m         \u001b[39mself\u001b[39;49m\u001b[39m.\u001b[39;49mstructured_traceback(\n\u001b[0;32m    512\u001b[0m             etype, evalue, (etb, chained_exc_ids),\n\u001b[0;32m    513\u001b[0m             chained_exceptions_tb_offset, context)\n\u001b[0;32m    514\u001b[0m         \u001b[39m+\u001b[39m chained_exception_message\n\u001b[0;32m    515\u001b[0m         \u001b[39m+\u001b[39m out_list)\n\u001b[0;32m    517\u001b[0m \u001b[39mreturn\u001b[39;00m out_list\n",
      "File \u001b[1;32mc:\\Users\\Karol\\.conda\\envs\\DL4H_CS598_2\\lib\\site-packages\\IPython\\core\\ultratb.py:1310\u001b[0m, in \u001b[0;36mAutoFormattedTB.structured_traceback\u001b[1;34m(self, etype, value, tb, tb_offset, number_of_lines_of_context)\u001b[0m\n\u001b[0;32m   1308\u001b[0m \u001b[39melse\u001b[39;00m:\n\u001b[0;32m   1309\u001b[0m     \u001b[39mself\u001b[39m\u001b[39m.\u001b[39mtb \u001b[39m=\u001b[39m tb\n\u001b[1;32m-> 1310\u001b[0m \u001b[39mreturn\u001b[39;00m FormattedTB\u001b[39m.\u001b[39;49mstructured_traceback(\n\u001b[0;32m   1311\u001b[0m     \u001b[39mself\u001b[39;49m, etype, value, tb, tb_offset, number_of_lines_of_context)\n",
      "File \u001b[1;32mc:\\Users\\Karol\\.conda\\envs\\DL4H_CS598_2\\lib\\site-packages\\IPython\\core\\ultratb.py:1199\u001b[0m, in \u001b[0;36mFormattedTB.structured_traceback\u001b[1;34m(self, etype, value, tb, tb_offset, number_of_lines_of_context)\u001b[0m\n\u001b[0;32m   1196\u001b[0m mode \u001b[39m=\u001b[39m \u001b[39mself\u001b[39m\u001b[39m.\u001b[39mmode\n\u001b[0;32m   1197\u001b[0m \u001b[39mif\u001b[39;00m mode \u001b[39min\u001b[39;00m \u001b[39mself\u001b[39m\u001b[39m.\u001b[39mverbose_modes:\n\u001b[0;32m   1198\u001b[0m     \u001b[39m# Verbose modes need a full traceback\u001b[39;00m\n\u001b[1;32m-> 1199\u001b[0m     \u001b[39mreturn\u001b[39;00m VerboseTB\u001b[39m.\u001b[39;49mstructured_traceback(\n\u001b[0;32m   1200\u001b[0m         \u001b[39mself\u001b[39;49m, etype, value, tb, tb_offset, number_of_lines_of_context\n\u001b[0;32m   1201\u001b[0m     )\n\u001b[0;32m   1202\u001b[0m \u001b[39melif\u001b[39;00m mode \u001b[39m==\u001b[39m \u001b[39m'\u001b[39m\u001b[39mMinimal\u001b[39m\u001b[39m'\u001b[39m:\n\u001b[0;32m   1203\u001b[0m     \u001b[39mreturn\u001b[39;00m ListTB\u001b[39m.\u001b[39mget_exception_only(\u001b[39mself\u001b[39m, etype, value)\n",
      "File \u001b[1;32mc:\\Users\\Karol\\.conda\\envs\\DL4H_CS598_2\\lib\\site-packages\\IPython\\core\\ultratb.py:1052\u001b[0m, in \u001b[0;36mVerboseTB.structured_traceback\u001b[1;34m(self, etype, evalue, etb, tb_offset, number_of_lines_of_context)\u001b[0m\n\u001b[0;32m   1043\u001b[0m \u001b[39mdef\u001b[39;00m \u001b[39mstructured_traceback\u001b[39m(\n\u001b[0;32m   1044\u001b[0m     \u001b[39mself\u001b[39m,\n\u001b[0;32m   1045\u001b[0m     etype: \u001b[39mtype\u001b[39m,\n\u001b[1;32m   (...)\u001b[0m\n\u001b[0;32m   1049\u001b[0m     number_of_lines_of_context: \u001b[39mint\u001b[39m \u001b[39m=\u001b[39m \u001b[39m5\u001b[39m,\n\u001b[0;32m   1050\u001b[0m ):\n\u001b[0;32m   1051\u001b[0m \u001b[39m    \u001b[39m\u001b[39m\"\"\"Return a nice text document describing the traceback.\"\"\"\u001b[39;00m\n\u001b[1;32m-> 1052\u001b[0m     formatted_exception \u001b[39m=\u001b[39m \u001b[39mself\u001b[39;49m\u001b[39m.\u001b[39;49mformat_exception_as_a_whole(etype, evalue, etb, number_of_lines_of_context,\n\u001b[0;32m   1053\u001b[0m                                                            tb_offset)\n\u001b[0;32m   1055\u001b[0m     colors \u001b[39m=\u001b[39m \u001b[39mself\u001b[39m\u001b[39m.\u001b[39mColors  \u001b[39m# just a shorthand + quicker name lookup\u001b[39;00m\n\u001b[0;32m   1056\u001b[0m     colorsnormal \u001b[39m=\u001b[39m colors\u001b[39m.\u001b[39mNormal  \u001b[39m# used a lot\u001b[39;00m\n",
      "File \u001b[1;32mc:\\Users\\Karol\\.conda\\envs\\DL4H_CS598_2\\lib\\site-packages\\IPython\\core\\ultratb.py:953\u001b[0m, in \u001b[0;36mVerboseTB.format_exception_as_a_whole\u001b[1;34m(self, etype, evalue, etb, number_of_lines_of_context, tb_offset)\u001b[0m\n\u001b[0;32m    950\u001b[0m \u001b[39massert\u001b[39;00m \u001b[39misinstance\u001b[39m(tb_offset, \u001b[39mint\u001b[39m)\n\u001b[0;32m    951\u001b[0m head \u001b[39m=\u001b[39m \u001b[39mself\u001b[39m\u001b[39m.\u001b[39mprepare_header(etype, \u001b[39mself\u001b[39m\u001b[39m.\u001b[39mlong_header)\n\u001b[0;32m    952\u001b[0m records \u001b[39m=\u001b[39m (\n\u001b[1;32m--> 953\u001b[0m     \u001b[39mself\u001b[39;49m\u001b[39m.\u001b[39;49mget_records(etb, number_of_lines_of_context, tb_offset) \u001b[39mif\u001b[39;00m etb \u001b[39melse\u001b[39;00m []\n\u001b[0;32m    954\u001b[0m )\n\u001b[0;32m    956\u001b[0m frames \u001b[39m=\u001b[39m []\n\u001b[0;32m    957\u001b[0m skipped \u001b[39m=\u001b[39m \u001b[39m0\u001b[39m\n",
      "File \u001b[1;32mc:\\Users\\Karol\\.conda\\envs\\DL4H_CS598_2\\lib\\site-packages\\IPython\\core\\ultratb.py:1021\u001b[0m, in \u001b[0;36mVerboseTB.get_records\u001b[1;34m(self, etb, number_of_lines_of_context, tb_offset)\u001b[0m\n\u001b[0;32m   1019\u001b[0m \u001b[39mwhile\u001b[39;00m cf \u001b[39mis\u001b[39;00m \u001b[39mnot\u001b[39;00m \u001b[39mNone\u001b[39;00m:\n\u001b[0;32m   1020\u001b[0m     \u001b[39mtry\u001b[39;00m:\n\u001b[1;32m-> 1021\u001b[0m         source_file \u001b[39m=\u001b[39m inspect\u001b[39m.\u001b[39mgetsourcefile(etb\u001b[39m.\u001b[39;49mtb_frame)\n\u001b[0;32m   1022\u001b[0m         lines, first \u001b[39m=\u001b[39m inspect\u001b[39m.\u001b[39mgetsourcelines(etb\u001b[39m.\u001b[39mtb_frame)\n\u001b[0;32m   1023\u001b[0m     \u001b[39mexcept\u001b[39;00m \u001b[39mOSError\u001b[39;00m:\n",
      "\u001b[1;31mAttributeError\u001b[0m: 'tuple' object has no attribute 'tb_frame'"
     ]
    }
   ],
   "source": [
    "#CODE TO TRAIN SCENARIO 3\n",
    "myUNET3 = models.UNETsmolr(input_channels=4)\n",
    "myDisc3 = models.Discriminator()\n",
    "args['save'] = 'C:/Users/Karol/Documents/DL4H/runs/smol_dark_60ep{}'.format(datetime.datetime.now().strftime('%Y-%m-%d_%H-%M-%S'))\n",
    "args['use_dark_channel'] = True\n",
    "gan.run(args, myUNET3, myDisc3, train_data, val_data, test_data)"
   ]
  },
  {
   "attachments": {},
   "cell_type": "markdown",
   "metadata": {},
   "source": [
    "Run training, validation, and test for scenario 4. This is full u-net and dark channel."
   ]
  },
  {
   "cell_type": "code",
   "execution_count": null,
   "metadata": {},
   "outputs": [],
   "source": [
    "#CODE TO TRAIN SCENARIO 4\n",
    "myUNET4 = models.UNET(input_channels=4)\n",
    "myDisc4 = models.Discriminator()\n",
    "args['save'] = 'C:/Users/Karol/Documents/DL4H/runs/full_dark_60ep{}'.format(datetime.datetime.now().strftime('%Y-%m-%d_%H-%M-%S'))\n",
    "args['use_dark_channel'] = True\n",
    "gan.run(args, myUNET4, myDisc4, train_data, val_data, test_data)"
   ]
  },
  {
   "attachments": {},
   "cell_type": "markdown",
   "metadata": {},
   "source": [
    "Now we must run testing on all 4 scenarios. Load in all the models at each epoch so we can plot metrics. (INTEGRATE THIS INTO TRAIN AND VALIDATE??)"
   ]
  },
  {
   "cell_type": "code",
   "execution_count": null,
   "metadata": {},
   "outputs": [],
   "source": [
    "# YES?"
   ]
  },
  {
   "attachments": {},
   "cell_type": "markdown",
   "metadata": {},
   "source": [
    "http://localhost:6006"
   ]
  },
  {
   "cell_type": "code",
   "execution_count": null,
   "metadata": {},
   "outputs": [],
   "source": []
  }
 ],
 "metadata": {
  "kernelspec": {
   "display_name": "DL4H_CS598",
   "language": "python",
   "name": "python3"
  },
  "language_info": {
   "codemirror_mode": {
    "name": "ipython",
    "version": 3
   },
   "file_extension": ".py",
   "mimetype": "text/x-python",
   "name": "python",
   "nbconvert_exporter": "python",
   "pygments_lexer": "ipython3",
   "version": "3.9.16"
  },
  "orig_nbformat": 4
 },
 "nbformat": 4,
 "nbformat_minor": 2
}
