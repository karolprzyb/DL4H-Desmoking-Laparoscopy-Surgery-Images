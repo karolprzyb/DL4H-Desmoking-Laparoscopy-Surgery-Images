{
 "cells": [
  {
   "cell_type": "code",
   "execution_count": 1,
   "metadata": {},
   "outputs": [],
   "source": [
    "import matplotlib.pyplot as plt\n",
    "\n",
    "import torch\n",
    "                              \n",
    "\n",
    "from utils import *\n",
    "from dcpref import DarkChannelPrior\n",
    "\n",
    "from synth_data_source import loadData"
   ]
  },
  {
   "attachments": {},
   "cell_type": "markdown",
   "metadata": {},
   "source": [
    "This notebook is to demonstrate dark channel prior as implemented. Feel free to experiment."
   ]
  },
  {
   "cell_type": "code",
   "execution_count": 2,
   "metadata": {},
   "outputs": [],
   "source": [
    "args_data = {\n",
    "        'pre_path' : 'C:/Users/Karol/Documents/DL4H',\n",
    "        'cache_subfolder' : '/datasets/cholec80/cache',\n",
    "        'cache_subfolder_test' : '/datasets/cholec80/cache_testset',\n",
    "        'syn_smoke_subfolder' : '/datasets/cholec80/synthetic_smoke/',\n",
    "        'dataset_subfolder' : '/datasets/cholec80/input_formatted',\n",
    "        'dataset_subfolder_test' : '/datasets/cholec80/input_formatted_test'\n",
    "}\n"
   ]
  },
  {
   "cell_type": "code",
   "execution_count": 3,
   "metadata": {},
   "outputs": [
    {
     "name": "stdout",
     "output_type": "stream",
     "text": [
      "CSV IS STILL GOOD SO GOOD\n",
      "CSV is good?\n"
     ]
    },
    {
     "name": "stderr",
     "output_type": "stream",
     "text": [
      "Number of rows in csv file is 43325 but video length is 43326. Recommend deleting csv file so it is recomputed: C:/Users/Karol/Documents/DL4H/datasets/cholec80/input_formatted\\video01\\quality_metrics.csv.\n"
     ]
    },
    {
     "name": "stdout",
     "output_type": "stream",
     "text": [
      "NUM ROWS IN CSV WRONG\n",
      "CSV IS STILL GOOD SO GOOD\n",
      "CSV is good?\n"
     ]
    },
    {
     "name": "stderr",
     "output_type": "stream",
     "text": [
      "Number of rows in csv file is 70975 but video length is 70976. Recommend deleting csv file so it is recomputed: C:/Users/Karol/Documents/DL4H/datasets/cholec80/input_formatted\\video02\\quality_metrics.csv.\n"
     ]
    },
    {
     "name": "stdout",
     "output_type": "stream",
     "text": [
      "NUM ROWS IN CSV WRONG\n",
      "CSV IS STILL GOOD SO GOOD\n",
      "CSV is good?\n"
     ]
    },
    {
     "name": "stderr",
     "output_type": "stream",
     "text": [
      "Number of rows in csv file is 145700 but video length is 145701. Recommend deleting csv file so it is recomputed: C:/Users/Karol/Documents/DL4H/datasets/cholec80/input_formatted\\video03\\quality_metrics.csv.\n"
     ]
    },
    {
     "name": "stdout",
     "output_type": "stream",
     "text": [
      "NUM ROWS IN CSV WRONG\n",
      "CSV IS STILL GOOD SO GOOD\n",
      "CSV is good?\n"
     ]
    },
    {
     "name": "stderr",
     "output_type": "stream",
     "text": [
      "Number of rows in csv file is 38050 but video length is 38051. Recommend deleting csv file so it is recomputed: C:/Users/Karol/Documents/DL4H/datasets/cholec80/input_formatted\\video04\\quality_metrics.csv.\n"
     ]
    },
    {
     "name": "stdout",
     "output_type": "stream",
     "text": [
      "NUM ROWS IN CSV WRONG\n",
      "CSV IS STILL GOOD SO GOOD\n",
      "CSV is good?\n"
     ]
    },
    {
     "name": "stderr",
     "output_type": "stream",
     "text": [
      "Number of rows in csv file is 58600 but video length is 58601. Recommend deleting csv file so it is recomputed: C:/Users/Karol/Documents/DL4H/datasets/cholec80/input_formatted\\video05\\quality_metrics.csv.\n"
     ]
    },
    {
     "name": "stdout",
     "output_type": "stream",
     "text": [
      "NUM ROWS IN CSV WRONG\n",
      "CSV IS STILL GOOD SO GOOD\n",
      "CSV is good?\n"
     ]
    },
    {
     "name": "stderr",
     "output_type": "stream",
     "text": [
      "Number of rows in csv file is 53825 but video length is 53826. Recommend deleting csv file so it is recomputed: C:/Users/Karol/Documents/DL4H/datasets/cholec80/input_formatted\\video06\\quality_metrics.csv.\n"
     ]
    },
    {
     "name": "stdout",
     "output_type": "stream",
     "text": [
      "NUM ROWS IN CSV WRONG\n",
      "CSV IS STILL GOOD SO GOOD\n",
      "CSV is good?\n"
     ]
    },
    {
     "name": "stderr",
     "output_type": "stream",
     "text": [
      "Number of rows in csv file is 113925 but video length is 113926. Recommend deleting csv file so it is recomputed: C:/Users/Karol/Documents/DL4H/datasets/cholec80/input_formatted\\video07\\quality_metrics.csv.\n"
     ]
    },
    {
     "name": "stdout",
     "output_type": "stream",
     "text": [
      "NUM ROWS IN CSV WRONG\n",
      "CSV IS STILL GOOD SO GOOD\n",
      "CSV is good?\n"
     ]
    },
    {
     "name": "stderr",
     "output_type": "stream",
     "text": [
      "Number of rows in csv file is 37975 but video length is 37976. Recommend deleting csv file so it is recomputed: C:/Users/Karol/Documents/DL4H/datasets/cholec80/input_formatted\\video08\\quality_metrics.csv.\n"
     ]
    },
    {
     "name": "stdout",
     "output_type": "stream",
     "text": [
      "NUM ROWS IN CSV WRONG\n",
      "CSV IS STILL GOOD SO GOOD\n",
      "CSV is good?\n"
     ]
    },
    {
     "name": "stderr",
     "output_type": "stream",
     "text": [
      "Number of rows in csv file is 67550 but video length is 67551. Recommend deleting csv file so it is recomputed: C:/Users/Karol/Documents/DL4H/datasets/cholec80/input_formatted\\video09\\quality_metrics.csv.\n"
     ]
    },
    {
     "name": "stdout",
     "output_type": "stream",
     "text": [
      "NUM ROWS IN CSV WRONG\n",
      "CSV IS STILL GOOD SO GOOD\n",
      "CSV is good?\n"
     ]
    },
    {
     "name": "stderr",
     "output_type": "stream",
     "text": [
      "Number of rows in csv file is 43725 but video length is 43726. Recommend deleting csv file so it is recomputed: C:/Users/Karol/Documents/DL4H/datasets/cholec80/input_formatted\\video10\\quality_metrics.csv.\n"
     ]
    },
    {
     "name": "stdout",
     "output_type": "stream",
     "text": [
      "NUM ROWS IN CSV WRONG\n",
      "CSV IS STILL GOOD SO GOOD\n",
      "CSV is good?\n"
     ]
    },
    {
     "name": "stderr",
     "output_type": "stream",
     "text": [
      "Number of rows in csv file is 80500 but video length is 80501. Recommend deleting csv file so it is recomputed: C:/Users/Karol/Documents/DL4H/datasets/cholec80/input_formatted\\video11\\quality_metrics.csv.\n"
     ]
    },
    {
     "name": "stdout",
     "output_type": "stream",
     "text": [
      "NUM ROWS IN CSV WRONG\n",
      "CSV IS STILL GOOD SO GOOD\n",
      "CSV is good?\n"
     ]
    },
    {
     "name": "stderr",
     "output_type": "stream",
     "text": [
      "Number of rows in csv file is 27250 but video length is 27251. Recommend deleting csv file so it is recomputed: C:/Users/Karol/Documents/DL4H/datasets/cholec80/input_formatted\\video12\\quality_metrics.csv.\n"
     ]
    },
    {
     "name": "stdout",
     "output_type": "stream",
     "text": [
      "NUM ROWS IN CSV WRONG\n",
      "CSV IS STILL GOOD SO GOOD\n",
      "CSV is good?\n"
     ]
    },
    {
     "name": "stderr",
     "output_type": "stream",
     "text": [
      "Number of rows in csv file is 24525 but video length is 24526. Recommend deleting csv file so it is recomputed: C:/Users/Karol/Documents/DL4H/datasets/cholec80/input_formatted\\video13\\quality_metrics.csv.\n"
     ]
    },
    {
     "name": "stdout",
     "output_type": "stream",
     "text": [
      "NUM ROWS IN CSV WRONG\n",
      "CSV IS STILL GOOD SO GOOD\n",
      "CSV is good?\n"
     ]
    },
    {
     "name": "stderr",
     "output_type": "stream",
     "text": [
      "Number of rows in csv file is 42700 but video length is 42701. Recommend deleting csv file so it is recomputed: C:/Users/Karol/Documents/DL4H/datasets/cholec80/input_formatted\\video14\\quality_metrics.csv.\n"
     ]
    },
    {
     "name": "stdout",
     "output_type": "stream",
     "text": [
      "NUM ROWS IN CSV WRONG\n",
      "CSV IS STILL GOOD SO GOOD\n",
      "CSV is good?\n"
     ]
    },
    {
     "name": "stderr",
     "output_type": "stream",
     "text": [
      "Number of rows in csv file is 51450 but video length is 51451. Recommend deleting csv file so it is recomputed: C:/Users/Karol/Documents/DL4H/datasets/cholec80/input_formatted\\video15\\quality_metrics.csv.\n"
     ]
    },
    {
     "name": "stdout",
     "output_type": "stream",
     "text": [
      "NUM ROWS IN CSV WRONG\n",
      "CSV IS STILL GOOD SO GOOD\n",
      "CSV is good?\n"
     ]
    },
    {
     "name": "stderr",
     "output_type": "stream",
     "text": [
      "Number of rows in csv file is 73925 but video length is 73926. Recommend deleting csv file so it is recomputed: C:/Users/Karol/Documents/DL4H/datasets/cholec80/input_formatted\\video16\\quality_metrics.csv.\n"
     ]
    },
    {
     "name": "stdout",
     "output_type": "stream",
     "text": [
      "NUM ROWS IN CSV WRONG\n",
      "CSV IS STILL GOOD SO GOOD\n",
      "CSV is good?\n"
     ]
    },
    {
     "name": "stderr",
     "output_type": "stream",
     "text": [
      "Number of rows in csv file is 32600 but video length is 32601. Recommend deleting csv file so it is recomputed: C:/Users/Karol/Documents/DL4H/datasets/cholec80/input_formatted\\video17\\quality_metrics.csv.\n"
     ]
    },
    {
     "name": "stdout",
     "output_type": "stream",
     "text": [
      "NUM ROWS IN CSV WRONG\n",
      "CSV IS STILL GOOD SO GOOD\n",
      "CSV is good?\n"
     ]
    },
    {
     "name": "stderr",
     "output_type": "stream",
     "text": [
      "Number of rows in csv file is 48550 but video length is 48551. Recommend deleting csv file so it is recomputed: C:/Users/Karol/Documents/DL4H/datasets/cholec80/input_formatted\\video18\\quality_metrics.csv.\n"
     ]
    },
    {
     "name": "stdout",
     "output_type": "stream",
     "text": [
      "NUM ROWS IN CSV WRONG\n",
      "CSV IS STILL GOOD SO GOOD\n",
      "CSV is good?\n"
     ]
    },
    {
     "name": "stderr",
     "output_type": "stream",
     "text": [
      "Number of rows in csv file is 60600 but video length is 60601. Recommend deleting csv file so it is recomputed: C:/Users/Karol/Documents/DL4H/datasets/cholec80/input_formatted\\video19\\quality_metrics.csv.\n"
     ]
    },
    {
     "name": "stdout",
     "output_type": "stream",
     "text": [
      "NUM ROWS IN CSV WRONG\n",
      "CSV IS STILL GOOD SO GOOD\n",
      "CSV is good?\n"
     ]
    },
    {
     "name": "stderr",
     "output_type": "stream",
     "text": [
      "Number of rows in csv file is 36225 but video length is 36226. Recommend deleting csv file so it is recomputed: C:/Users/Karol/Documents/DL4H/datasets/cholec80/input_formatted\\video20\\quality_metrics.csv.\n"
     ]
    },
    {
     "name": "stdout",
     "output_type": "stream",
     "text": [
      "NUM ROWS IN CSV WRONG\n",
      "43326\n",
      "43325\n",
      "70976\n",
      "70975\n",
      "145701\n",
      "145700\n",
      "38051\n",
      "38050\n",
      "58601\n",
      "58600\n",
      "53826\n",
      "53825\n",
      "113926\n",
      "113925\n",
      "37976\n",
      "37975\n",
      "67551\n",
      "67550\n",
      "43726\n",
      "43725\n",
      "80501\n",
      "80500\n",
      "27251\n",
      "27250\n",
      "24526\n",
      "24525\n",
      "42701\n",
      "42700\n",
      "51451\n",
      "51450\n",
      "73926\n",
      "73925\n",
      "32601\n",
      "32600\n",
      "48551\n",
      "48550\n",
      "60601\n",
      "60600\n",
      "36226\n",
      "36225\n",
      "CSV IS STILL GOOD SO GOOD\n",
      "CSV is good?\n"
     ]
    },
    {
     "name": "stderr",
     "output_type": "stream",
     "text": [
      "Number of rows in csv file is 31450 but video length is 31451. Recommend deleting csv file so it is recomputed: C:/Users/Karol/Documents/DL4H/datasets/cholec80/input_formatted_test\\video21\\quality_metrics.csv.\n"
     ]
    },
    {
     "name": "stdout",
     "output_type": "stream",
     "text": [
      "NUM ROWS IN CSV WRONG\n",
      "CSV IS STILL GOOD SO GOOD\n",
      "CSV is good?\n"
     ]
    },
    {
     "name": "stderr",
     "output_type": "stream",
     "text": [
      "Number of rows in csv file is 38300 but video length is 38301. Recommend deleting csv file so it is recomputed: C:/Users/Karol/Documents/DL4H/datasets/cholec80/input_formatted_test\\video22\\quality_metrics.csv.\n"
     ]
    },
    {
     "name": "stdout",
     "output_type": "stream",
     "text": [
      "NUM ROWS IN CSV WRONG\n",
      "31451\n",
      "31450\n",
      "38301\n",
      "38300\n"
     ]
    }
   ],
   "source": [
    "def imshow_tensor(axs_ref, tensor, denormalize = False):\n",
    "    '''\n",
    "        axs_ref: reference to matplotlib axs for plotting.\n",
    "        tensor: C, H, W image tensor\n",
    "    '''\n",
    "    if denormalize:\n",
    "        tensor = (tensor + 1.0)/2.0\n",
    "\n",
    "    axs_ref.imshow(kornia.utils.tensor_to_image(transforms.ConvertImageDtype(torch.uint8)(tensor.cpu())))\n",
    "\n",
    "testConverter = DarkChannelPrior('cuda:0')\n",
    "train_data, val_data, test_data = loadData(args_data)"
   ]
  },
  {
   "cell_type": "code",
   "execution_count": 67,
   "metadata": {},
   "outputs": [
    {
     "name": "stdout",
     "output_type": "stream",
     "text": [
      "3\n"
     ]
    },
    {
     "data": {
      "image/png": "[encoded data removed]",
      "text/plain": [
       "<Figure size 640x480 with 4 Axes>"
      ]
     },
     "metadata": {},
     "output_type": "display_data"
    }
   ],
   "source": [
    "import importlib\n",
    "import dcpref\n",
    "importlib.reload(dcpref)\n",
    "\n",
    "testConverter = dcpref.DarkChannelPrior('cuda:0', kernel_size=15)\n",
    "\n",
    "img = train_data.__getitem__(5400)\n",
    "print(len(img))\n",
    "fig = plt.subplot(3,2,1)\n",
    "imshow_tensor(fig, img[0], denormalize=True)\n",
    "fig = plt.subplot(3,2,3)\n",
    "imshow_tensor(fig, img[1], denormalize=True)\n",
    "fig = plt.subplot(3,2,5)\n",
    "imshow_tensor(fig, testConverter(((img[0]+1.0)/2.0).unsqueeze(0).cuda()), denormalize=False)\n",
    "fig = plt.subplot(3,2,6)\n",
    "imshow_tensor(fig, testConverter(img[0].unsqueeze(0).cuda()), denormalize=True)"
   ]
  },
  {
   "cell_type": "code",
   "execution_count": 69,
   "metadata": {},
   "outputs": [
    {
     "data": {
      "text/plain": [
       "torch.Size([256, 256])"
      ]
     },
     "execution_count": 69,
     "metadata": {},
     "output_type": "execute_result"
    }
   ],
   "source": [
    "img[1][0,:,:].shape"
   ]
  }
 ],
 "metadata": {
  "interpreter": {
   "hash": "16e8eae710280985efb62e5e29e7942f7d17813984f041e6d3904a3f8808855e"
  },
  "kernelspec": {
   "display_name": "Python 3.9.7 ('cuda114')",
   "language": "python",
   "name": "python3"
  },
  "language_info": {
   "codemirror_mode": {
    "name": "ipython",
    "version": 3
   },
   "file_extension": ".py",
   "mimetype": "text/x-python",
   "name": "python",
   "nbconvert_exporter": "python",
   "pygments_lexer": "ipython3",
   "version": "3.9.16"
  },
  "orig_nbformat": 4
 },
 "nbformat": 4,
 "nbformat_minor": 2
}
